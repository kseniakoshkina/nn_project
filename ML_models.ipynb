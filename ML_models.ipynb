{
  "cells": [
    {
      "cell_type": "code",
      "execution_count": 1,
      "metadata": {
        "id": "963e9BofWm_s"
      },
      "outputs": [],
      "source": [
        "import pandas as pd \n",
        "import numpy as np \n",
        "import matplotlib.pyplot as plt\n",
        "import seaborn as sns \n",
        "from collections import defaultdict"
      ]
    },
    {
      "cell_type": "code",
      "execution_count": 2,
      "metadata": {
        "colab": {
          "base_uri": "https://localhost:8080/"
        },
        "id": "1yhFhK-PHgF6",
        "outputId": "dbabfa75-8ba8-49c5-89f8-50a5476a5034"
      },
      "outputs": [
        {
          "output_type": "stream",
          "name": "stdout",
          "text": [
            "Drive already mounted at /content/drive; to attempt to forcibly remount, call drive.mount(\"/content/drive\", force_remount=True).\n"
          ]
        }
      ],
      "source": [
        "from google.colab import drive \n",
        "drive.mount('/content/drive')"
      ]
    },
    {
      "cell_type": "code",
      "execution_count": null,
      "metadata": {
        "id": "KFD7iE-_W1D2"
      },
      "outputs": [],
      "source": [
        "df_train = pd.read_csv('drive/MyDrive/train_binary.csv')\n",
        "df_val = pd.read_csv('drive/MyDrive/val_binary.csv')\n",
        "df_test = pd.read_csv('drive/MyDrive/test_binary.csv')"
      ]
    },
    {
      "cell_type": "code",
      "source": [
        "! pip install lda"
      ],
      "metadata": {
        "colab": {
          "base_uri": "https://localhost:8080/"
        },
        "id": "hBe9ZoqoGA1e",
        "outputId": "eaa49d1c-1463-4157-fcbc-87e3123131e4"
      },
      "execution_count": 3,
      "outputs": [
        {
          "output_type": "stream",
          "name": "stdout",
          "text": [
            "Requirement already satisfied: lda in /usr/local/lib/python3.7/dist-packages (2.0.0)\n",
            "Requirement already satisfied: numpy<2.0,>=1.13.0 in /usr/local/lib/python3.7/dist-packages (from lda) (1.21.5)\n",
            "Requirement already satisfied: pbr<4,>=0.6 in /usr/local/lib/python3.7/dist-packages (from lda) (3.1.1)\n"
          ]
        }
      ]
    },
    {
      "cell_type": "code",
      "source": [
        "! pip install pymorphy2"
      ],
      "metadata": {
        "colab": {
          "base_uri": "https://localhost:8080/"
        },
        "id": "4rZsE4QqL9YJ",
        "outputId": "c022455f-0b85-4e65-9e60-d31a22f83d24"
      },
      "execution_count": 4,
      "outputs": [
        {
          "output_type": "stream",
          "name": "stdout",
          "text": [
            "Requirement already satisfied: pymorphy2 in /usr/local/lib/python3.7/dist-packages (0.9.1)\n",
            "Requirement already satisfied: dawg-python>=0.7.1 in /usr/local/lib/python3.7/dist-packages (from pymorphy2) (0.7.2)\n",
            "Requirement already satisfied: docopt>=0.6 in /usr/local/lib/python3.7/dist-packages (from pymorphy2) (0.6.2)\n",
            "Requirement already satisfied: pymorphy2-dicts-ru<3.0,>=2.4 in /usr/local/lib/python3.7/dist-packages (from pymorphy2) (2.4.417127.4579844)\n"
          ]
        }
      ]
    },
    {
      "cell_type": "code",
      "source": [
        "from nltk.stem import WordNetLemmatizer\n",
        "import nltk\n",
        "import nltk\n",
        "nltk.download('punkt')\n",
        "nltk.download('stopwords')\n",
        "nltk.download('wordnet')\n",
        "from nltk.corpus import stopwords\n",
        "from nltk.tokenize import word_tokenize\n",
        "from nltk.tokenize import word_tokenize, wordpunct_tokenize\n",
        "import lda\n",
        "import string\n",
        "import re\n",
        "from sklearn.feature_extraction.text import CountVectorizer\n",
        "from string import punctuation"
      ],
      "metadata": {
        "colab": {
          "base_uri": "https://localhost:8080/"
        },
        "id": "gnGLcjOGE8kK",
        "outputId": "37d08a16-dd59-4e60-8b5b-8f05d3f00571"
      },
      "execution_count": 5,
      "outputs": [
        {
          "output_type": "stream",
          "name": "stdout",
          "text": [
            "[nltk_data] Downloading package punkt to /root/nltk_data...\n",
            "[nltk_data]   Package punkt is already up-to-date!\n",
            "[nltk_data] Downloading package stopwords to /root/nltk_data...\n",
            "[nltk_data]   Package stopwords is already up-to-date!\n",
            "[nltk_data] Downloading package wordnet to /root/nltk_data...\n",
            "[nltk_data]   Package wordnet is already up-to-date!\n"
          ]
        }
      ]
    },
    {
      "cell_type": "code",
      "source": [
        "import pymorphy2\n",
        "morph = pymorphy2.MorphAnalyzer()"
      ],
      "metadata": {
        "id": "JtpzlBS9L7vx"
      },
      "execution_count": null,
      "outputs": []
    },
    {
      "cell_type": "code",
      "source": [
        "def get_text(model_text):\n",
        "    stemmer = WordNetLemmatizer()\n",
        "    text = []\n",
        "    for sentence in model_text.split():\n",
        "        words = word_tokenize(sentence)\n",
        "        words = ' '.join(words)\n",
        "        words = words.lower()\n",
        "        for p in string.punctuation:\n",
        "          if p in words:\n",
        "            # банальная замена символа в строке\n",
        "            words = words.replace(p, '')\n",
        "        words = re.sub(r'[^\\w\\s]+|[\\d]+', r'',words)\n",
        "        text.append(''.join(words))\n",
        "    return text"
      ],
      "metadata": {
        "id": "G52xaWl8GAVb"
      },
      "execution_count": null,
      "outputs": []
    },
    {
      "cell_type": "code",
      "source": [
        "def get_pos(list_of_text):\n",
        "  all_poses = []\n",
        "  for el in list_of_text:\n",
        "    for k in el.split():\n",
        "      all_poses.append(morph.parse(k)[0].tag.POS)\n",
        "  return all_poses"
      ],
      "metadata": {
        "id": "sIh-lSZeMGNP"
      },
      "execution_count": null,
      "outputs": []
    },
    {
      "cell_type": "code",
      "source": [
        "df_train['poses'] = df_train['Text'].apply(lambda x: get_pos(get_text(x)))"
      ],
      "metadata": {
        "colab": {
          "base_uri": "https://localhost:8080/",
          "height": 320
        },
        "id": "vmMbibbDOXhL",
        "outputId": "aa04bfe1-9e5f-44e6-ff3c-6615b711e18f"
      },
      "execution_count": null,
      "outputs": [
        {
          "output_type": "error",
          "ename": "KeyboardInterrupt",
          "evalue": "ignored",
          "traceback": [
            "\u001b[0;31m---------------------------------------------------------------------------\u001b[0m",
            "\u001b[0;31mKeyboardInterrupt\u001b[0m                         Traceback (most recent call last)",
            "\u001b[0;32m<ipython-input-17-166e318b067a>\u001b[0m in \u001b[0;36m<module>\u001b[0;34m()\u001b[0m\n\u001b[0;32m----> 1\u001b[0;31m \u001b[0mdf_train\u001b[0m\u001b[0;34m[\u001b[0m\u001b[0;34m'poses'\u001b[0m\u001b[0;34m]\u001b[0m \u001b[0;34m=\u001b[0m \u001b[0mdf_train\u001b[0m\u001b[0;34m[\u001b[0m\u001b[0;34m'Text'\u001b[0m\u001b[0;34m]\u001b[0m\u001b[0;34m.\u001b[0m\u001b[0mapply\u001b[0m\u001b[0;34m(\u001b[0m\u001b[0;32mlambda\u001b[0m \u001b[0mx\u001b[0m\u001b[0;34m:\u001b[0m \u001b[0mget_pos\u001b[0m\u001b[0;34m(\u001b[0m\u001b[0mget_text\u001b[0m\u001b[0;34m(\u001b[0m\u001b[0mx\u001b[0m\u001b[0;34m)\u001b[0m\u001b[0;34m)\u001b[0m\u001b[0;34m)\u001b[0m\u001b[0;34m\u001b[0m\u001b[0;34m\u001b[0m\u001b[0m\n\u001b[0m",
            "\u001b[0;32m/usr/local/lib/python3.7/dist-packages/pandas/core/series.py\u001b[0m in \u001b[0;36mapply\u001b[0;34m(self, func, convert_dtype, args, **kwargs)\u001b[0m\n\u001b[1;32m   4355\u001b[0m         \u001b[0mdtype\u001b[0m\u001b[0;34m:\u001b[0m \u001b[0mfloat64\u001b[0m\u001b[0;34m\u001b[0m\u001b[0;34m\u001b[0m\u001b[0m\n\u001b[1;32m   4356\u001b[0m         \"\"\"\n\u001b[0;32m-> 4357\u001b[0;31m         \u001b[0;32mreturn\u001b[0m \u001b[0mSeriesApply\u001b[0m\u001b[0;34m(\u001b[0m\u001b[0mself\u001b[0m\u001b[0;34m,\u001b[0m \u001b[0mfunc\u001b[0m\u001b[0;34m,\u001b[0m \u001b[0mconvert_dtype\u001b[0m\u001b[0;34m,\u001b[0m \u001b[0margs\u001b[0m\u001b[0;34m,\u001b[0m \u001b[0mkwargs\u001b[0m\u001b[0;34m)\u001b[0m\u001b[0;34m.\u001b[0m\u001b[0mapply\u001b[0m\u001b[0;34m(\u001b[0m\u001b[0;34m)\u001b[0m\u001b[0;34m\u001b[0m\u001b[0;34m\u001b[0m\u001b[0m\n\u001b[0m\u001b[1;32m   4358\u001b[0m \u001b[0;34m\u001b[0m\u001b[0m\n\u001b[1;32m   4359\u001b[0m     def _reduce(\n",
            "\u001b[0;32m/usr/local/lib/python3.7/dist-packages/pandas/core/apply.py\u001b[0m in \u001b[0;36mapply\u001b[0;34m(self)\u001b[0m\n\u001b[1;32m   1041\u001b[0m             \u001b[0;32mreturn\u001b[0m \u001b[0mself\u001b[0m\u001b[0;34m.\u001b[0m\u001b[0mapply_str\u001b[0m\u001b[0;34m(\u001b[0m\u001b[0;34m)\u001b[0m\u001b[0;34m\u001b[0m\u001b[0;34m\u001b[0m\u001b[0m\n\u001b[1;32m   1042\u001b[0m \u001b[0;34m\u001b[0m\u001b[0m\n\u001b[0;32m-> 1043\u001b[0;31m         \u001b[0;32mreturn\u001b[0m \u001b[0mself\u001b[0m\u001b[0;34m.\u001b[0m\u001b[0mapply_standard\u001b[0m\u001b[0;34m(\u001b[0m\u001b[0;34m)\u001b[0m\u001b[0;34m\u001b[0m\u001b[0;34m\u001b[0m\u001b[0m\n\u001b[0m\u001b[1;32m   1044\u001b[0m \u001b[0;34m\u001b[0m\u001b[0m\n\u001b[1;32m   1045\u001b[0m     \u001b[0;32mdef\u001b[0m \u001b[0magg\u001b[0m\u001b[0;34m(\u001b[0m\u001b[0mself\u001b[0m\u001b[0;34m)\u001b[0m\u001b[0;34m:\u001b[0m\u001b[0;34m\u001b[0m\u001b[0;34m\u001b[0m\u001b[0m\n",
            "\u001b[0;32m/usr/local/lib/python3.7/dist-packages/pandas/core/apply.py\u001b[0m in \u001b[0;36mapply_standard\u001b[0;34m(self)\u001b[0m\n\u001b[1;32m   1099\u001b[0m                     \u001b[0mvalues\u001b[0m\u001b[0;34m,\u001b[0m\u001b[0;34m\u001b[0m\u001b[0;34m\u001b[0m\u001b[0m\n\u001b[1;32m   1100\u001b[0m                     \u001b[0mf\u001b[0m\u001b[0;34m,\u001b[0m  \u001b[0;31m# type: ignore[arg-type]\u001b[0m\u001b[0;34m\u001b[0m\u001b[0;34m\u001b[0m\u001b[0m\n\u001b[0;32m-> 1101\u001b[0;31m                     \u001b[0mconvert\u001b[0m\u001b[0;34m=\u001b[0m\u001b[0mself\u001b[0m\u001b[0;34m.\u001b[0m\u001b[0mconvert_dtype\u001b[0m\u001b[0;34m,\u001b[0m\u001b[0;34m\u001b[0m\u001b[0;34m\u001b[0m\u001b[0m\n\u001b[0m\u001b[1;32m   1102\u001b[0m                 )\n\u001b[1;32m   1103\u001b[0m \u001b[0;34m\u001b[0m\u001b[0m\n",
            "\u001b[0;32m/usr/local/lib/python3.7/dist-packages/pandas/_libs/lib.pyx\u001b[0m in \u001b[0;36mpandas._libs.lib.map_infer\u001b[0;34m()\u001b[0m\n",
            "\u001b[0;32m<ipython-input-17-166e318b067a>\u001b[0m in \u001b[0;36m<lambda>\u001b[0;34m(x)\u001b[0m\n\u001b[0;32m----> 1\u001b[0;31m \u001b[0mdf_train\u001b[0m\u001b[0;34m[\u001b[0m\u001b[0;34m'poses'\u001b[0m\u001b[0;34m]\u001b[0m \u001b[0;34m=\u001b[0m \u001b[0mdf_train\u001b[0m\u001b[0;34m[\u001b[0m\u001b[0;34m'Text'\u001b[0m\u001b[0;34m]\u001b[0m\u001b[0;34m.\u001b[0m\u001b[0mapply\u001b[0m\u001b[0;34m(\u001b[0m\u001b[0;32mlambda\u001b[0m \u001b[0mx\u001b[0m\u001b[0;34m:\u001b[0m \u001b[0mget_pos\u001b[0m\u001b[0;34m(\u001b[0m\u001b[0mget_text\u001b[0m\u001b[0;34m(\u001b[0m\u001b[0mx\u001b[0m\u001b[0;34m)\u001b[0m\u001b[0;34m)\u001b[0m\u001b[0;34m)\u001b[0m\u001b[0;34m\u001b[0m\u001b[0;34m\u001b[0m\u001b[0m\n\u001b[0m",
            "\u001b[0;32m<ipython-input-16-339488a7973c>\u001b[0m in \u001b[0;36mget_pos\u001b[0;34m(list_of_text)\u001b[0m\n\u001b[1;32m      3\u001b[0m   \u001b[0;32mfor\u001b[0m \u001b[0mel\u001b[0m \u001b[0;32min\u001b[0m \u001b[0mlist_of_text\u001b[0m\u001b[0;34m:\u001b[0m\u001b[0;34m\u001b[0m\u001b[0;34m\u001b[0m\u001b[0m\n\u001b[1;32m      4\u001b[0m     \u001b[0;32mfor\u001b[0m \u001b[0mk\u001b[0m \u001b[0;32min\u001b[0m \u001b[0mel\u001b[0m\u001b[0;34m.\u001b[0m\u001b[0msplit\u001b[0m\u001b[0;34m(\u001b[0m\u001b[0;34m)\u001b[0m\u001b[0;34m:\u001b[0m\u001b[0;34m\u001b[0m\u001b[0;34m\u001b[0m\u001b[0m\n\u001b[0;32m----> 5\u001b[0;31m       \u001b[0mall_poses\u001b[0m\u001b[0;34m.\u001b[0m\u001b[0mappend\u001b[0m\u001b[0;34m(\u001b[0m\u001b[0mmorph\u001b[0m\u001b[0;34m.\u001b[0m\u001b[0mparse\u001b[0m\u001b[0;34m(\u001b[0m\u001b[0mk\u001b[0m\u001b[0;34m)\u001b[0m\u001b[0;34m[\u001b[0m\u001b[0;36m0\u001b[0m\u001b[0;34m]\u001b[0m\u001b[0;34m.\u001b[0m\u001b[0mtag\u001b[0m\u001b[0;34m.\u001b[0m\u001b[0mPOS\u001b[0m\u001b[0;34m)\u001b[0m\u001b[0;34m\u001b[0m\u001b[0;34m\u001b[0m\u001b[0m\n\u001b[0m\u001b[1;32m      6\u001b[0m   \u001b[0;32mreturn\u001b[0m \u001b[0mall_poses\u001b[0m\u001b[0;34m\u001b[0m\u001b[0;34m\u001b[0m\u001b[0m\n",
            "\u001b[0;32m/usr/local/lib/python3.7/dist-packages/pymorphy2/analyzer.py\u001b[0m in \u001b[0;36mparse\u001b[0;34m(self, word)\u001b[0m\n\u001b[1;32m    313\u001b[0m \u001b[0;34m\u001b[0m\u001b[0m\n\u001b[1;32m    314\u001b[0m         \u001b[0;32mfor\u001b[0m \u001b[0manalyzer\u001b[0m\u001b[0;34m,\u001b[0m \u001b[0mis_terminal\u001b[0m \u001b[0;32min\u001b[0m \u001b[0mself\u001b[0m\u001b[0;34m.\u001b[0m\u001b[0m_units\u001b[0m\u001b[0;34m:\u001b[0m\u001b[0;34m\u001b[0m\u001b[0;34m\u001b[0m\u001b[0m\n\u001b[0;32m--> 315\u001b[0;31m             \u001b[0mres\u001b[0m\u001b[0;34m.\u001b[0m\u001b[0mextend\u001b[0m\u001b[0;34m(\u001b[0m\u001b[0manalyzer\u001b[0m\u001b[0;34m.\u001b[0m\u001b[0mparse\u001b[0m\u001b[0;34m(\u001b[0m\u001b[0mword\u001b[0m\u001b[0;34m,\u001b[0m \u001b[0mword_lower\u001b[0m\u001b[0;34m,\u001b[0m \u001b[0mseen\u001b[0m\u001b[0;34m)\u001b[0m\u001b[0;34m)\u001b[0m\u001b[0;34m\u001b[0m\u001b[0;34m\u001b[0m\u001b[0m\n\u001b[0m\u001b[1;32m    316\u001b[0m \u001b[0;34m\u001b[0m\u001b[0m\n\u001b[1;32m    317\u001b[0m             \u001b[0;32mif\u001b[0m \u001b[0mis_terminal\u001b[0m \u001b[0;32mand\u001b[0m \u001b[0mres\u001b[0m\u001b[0;34m:\u001b[0m\u001b[0;34m\u001b[0m\u001b[0;34m\u001b[0m\u001b[0m\n",
            "\u001b[0;32m/usr/local/lib/python3.7/dist-packages/pymorphy2/units/by_lookup.py\u001b[0m in \u001b[0;36mparse\u001b[0;34m(self, word, word_lower, seen_parses)\u001b[0m\n\u001b[1;32m     22\u001b[0m         \"\"\"\n\u001b[1;32m     23\u001b[0m         \u001b[0mres\u001b[0m \u001b[0;34m=\u001b[0m \u001b[0;34m[\u001b[0m\u001b[0;34m]\u001b[0m\u001b[0;34m\u001b[0m\u001b[0;34m\u001b[0m\u001b[0m\n\u001b[0;32m---> 24\u001b[0;31m         \u001b[0mpara_data\u001b[0m \u001b[0;34m=\u001b[0m \u001b[0mself\u001b[0m\u001b[0;34m.\u001b[0m\u001b[0mdict\u001b[0m\u001b[0;34m.\u001b[0m\u001b[0mwords\u001b[0m\u001b[0;34m.\u001b[0m\u001b[0msimilar_items\u001b[0m\u001b[0;34m(\u001b[0m\u001b[0mword_lower\u001b[0m\u001b[0;34m,\u001b[0m \u001b[0mself\u001b[0m\u001b[0;34m.\u001b[0m\u001b[0mmorph\u001b[0m\u001b[0;34m.\u001b[0m\u001b[0mchar_substitutes\u001b[0m\u001b[0;34m)\u001b[0m\u001b[0;34m\u001b[0m\u001b[0;34m\u001b[0m\u001b[0m\n\u001b[0m\u001b[1;32m     25\u001b[0m \u001b[0;34m\u001b[0m\u001b[0m\n\u001b[1;32m     26\u001b[0m         \u001b[0;32mfor\u001b[0m \u001b[0mfixed_word\u001b[0m\u001b[0;34m,\u001b[0m \u001b[0mparses\u001b[0m \u001b[0;32min\u001b[0m \u001b[0mpara_data\u001b[0m\u001b[0;34m:\u001b[0m\u001b[0;34m\u001b[0m\u001b[0;34m\u001b[0m\u001b[0m\n",
            "\u001b[0;32m/usr/local/lib/python3.7/dist-packages/dawg_python/dawgs.py\u001b[0m in \u001b[0;36msimilar_items\u001b[0;34m(self, key, replaces)\u001b[0m\n\u001b[1;32m    367\u001b[0m         \u001b[0municode\u001b[0m \u001b[0mstrings\u001b[0m\u001b[0;34m.\u001b[0m\u001b[0;34m\u001b[0m\u001b[0;34m\u001b[0m\u001b[0m\n\u001b[1;32m    368\u001b[0m         \"\"\"\n\u001b[0;32m--> 369\u001b[0;31m         \u001b[0;32mreturn\u001b[0m \u001b[0mself\u001b[0m\u001b[0;34m.\u001b[0m\u001b[0m_similar_items\u001b[0m\u001b[0;34m(\u001b[0m\u001b[0;34m\"\"\u001b[0m\u001b[0;34m,\u001b[0m \u001b[0mkey\u001b[0m\u001b[0;34m,\u001b[0m \u001b[0mself\u001b[0m\u001b[0;34m.\u001b[0m\u001b[0mdct\u001b[0m\u001b[0;34m.\u001b[0m\u001b[0mROOT\u001b[0m\u001b[0;34m,\u001b[0m \u001b[0mreplaces\u001b[0m\u001b[0;34m)\u001b[0m\u001b[0;34m\u001b[0m\u001b[0;34m\u001b[0m\u001b[0m\n\u001b[0m\u001b[1;32m    370\u001b[0m \u001b[0;34m\u001b[0m\u001b[0m\n\u001b[1;32m    371\u001b[0m \u001b[0;34m\u001b[0m\u001b[0m\n",
            "\u001b[0;32m/usr/local/lib/python3.7/dist-packages/dawg_python/dawgs.py\u001b[0m in \u001b[0;36m_similar_items\u001b[0;34m(self, current_prefix, key, index, replace_chars)\u001b[0m\n\u001b[1;32m    352\u001b[0m             \u001b[0;32mif\u001b[0m \u001b[0mindex\u001b[0m\u001b[0;34m:\u001b[0m\u001b[0;34m\u001b[0m\u001b[0;34m\u001b[0m\u001b[0m\n\u001b[1;32m    353\u001b[0m                 \u001b[0mfound_key\u001b[0m \u001b[0;34m=\u001b[0m \u001b[0mcurrent_prefix\u001b[0m \u001b[0;34m+\u001b[0m \u001b[0mkey\u001b[0m\u001b[0;34m[\u001b[0m\u001b[0mstart_pos\u001b[0m\u001b[0;34m:\u001b[0m\u001b[0;34m]\u001b[0m\u001b[0;34m\u001b[0m\u001b[0;34m\u001b[0m\u001b[0m\n\u001b[0;32m--> 354\u001b[0;31m                 \u001b[0mvalue\u001b[0m \u001b[0;34m=\u001b[0m \u001b[0mself\u001b[0m\u001b[0;34m.\u001b[0m\u001b[0m_value_for_index\u001b[0m\u001b[0;34m(\u001b[0m\u001b[0mindex\u001b[0m\u001b[0;34m)\u001b[0m\u001b[0;34m\u001b[0m\u001b[0;34m\u001b[0m\u001b[0m\n\u001b[0m\u001b[1;32m    355\u001b[0m                 \u001b[0mres\u001b[0m\u001b[0;34m.\u001b[0m\u001b[0minsert\u001b[0m\u001b[0;34m(\u001b[0m\u001b[0;36m0\u001b[0m\u001b[0;34m,\u001b[0m \u001b[0;34m(\u001b[0m\u001b[0mfound_key\u001b[0m\u001b[0;34m,\u001b[0m \u001b[0mvalue\u001b[0m\u001b[0;34m)\u001b[0m\u001b[0;34m)\u001b[0m\u001b[0;34m\u001b[0m\u001b[0;34m\u001b[0m\u001b[0m\n\u001b[1;32m    356\u001b[0m \u001b[0;34m\u001b[0m\u001b[0m\n",
            "\u001b[0;32m/usr/local/lib/python3.7/dist-packages/dawg_python/dawgs.py\u001b[0m in \u001b[0;36m_value_for_index\u001b[0;34m(self, index)\u001b[0m\n\u001b[1;32m    420\u001b[0m \u001b[0;34m\u001b[0m\u001b[0m\n\u001b[1;32m    421\u001b[0m     \u001b[0;32mdef\u001b[0m \u001b[0m_value_for_index\u001b[0m\u001b[0;34m(\u001b[0m\u001b[0mself\u001b[0m\u001b[0;34m,\u001b[0m \u001b[0mindex\u001b[0m\u001b[0;34m)\u001b[0m\u001b[0;34m:\u001b[0m\u001b[0;34m\u001b[0m\u001b[0;34m\u001b[0m\u001b[0m\n\u001b[0;32m--> 422\u001b[0;31m         \u001b[0mvalue\u001b[0m \u001b[0;34m=\u001b[0m \u001b[0msuper\u001b[0m\u001b[0;34m(\u001b[0m\u001b[0mRecordDAWG\u001b[0m\u001b[0;34m,\u001b[0m \u001b[0mself\u001b[0m\u001b[0;34m)\u001b[0m\u001b[0;34m.\u001b[0m\u001b[0m_value_for_index\u001b[0m\u001b[0;34m(\u001b[0m\u001b[0mindex\u001b[0m\u001b[0;34m)\u001b[0m\u001b[0;34m\u001b[0m\u001b[0;34m\u001b[0m\u001b[0m\n\u001b[0m\u001b[1;32m    423\u001b[0m         \u001b[0;32mreturn\u001b[0m \u001b[0;34m[\u001b[0m\u001b[0mself\u001b[0m\u001b[0;34m.\u001b[0m\u001b[0m_struct\u001b[0m\u001b[0;34m.\u001b[0m\u001b[0munpack\u001b[0m\u001b[0;34m(\u001b[0m\u001b[0mval\u001b[0m\u001b[0;34m)\u001b[0m \u001b[0;32mfor\u001b[0m \u001b[0mval\u001b[0m \u001b[0;32min\u001b[0m \u001b[0mvalue\u001b[0m\u001b[0;34m]\u001b[0m\u001b[0;34m\u001b[0m\u001b[0;34m\u001b[0m\u001b[0m\n\u001b[1;32m    424\u001b[0m \u001b[0;34m\u001b[0m\u001b[0m\n",
            "\u001b[0;32m/usr/local/lib/python3.7/dist-packages/dawg_python/dawgs.py\u001b[0m in \u001b[0;36m_value_for_index\u001b[0;34m(self, index)\u001b[0m\n\u001b[1;32m    225\u001b[0m \u001b[0;34m\u001b[0m\u001b[0m\n\u001b[1;32m    226\u001b[0m         \u001b[0mcompleter\u001b[0m\u001b[0;34m.\u001b[0m\u001b[0mstart\u001b[0m\u001b[0;34m(\u001b[0m\u001b[0mindex\u001b[0m\u001b[0;34m)\u001b[0m\u001b[0;34m\u001b[0m\u001b[0;34m\u001b[0m\u001b[0m\n\u001b[0;32m--> 227\u001b[0;31m         \u001b[0;32mwhile\u001b[0m \u001b[0mcompleter\u001b[0m\u001b[0;34m.\u001b[0m\u001b[0mnext\u001b[0m\u001b[0;34m(\u001b[0m\u001b[0;34m)\u001b[0m\u001b[0;34m:\u001b[0m\u001b[0;34m\u001b[0m\u001b[0;34m\u001b[0m\u001b[0m\n\u001b[0m\u001b[1;32m    228\u001b[0m             \u001b[0;31m# a2b_base64 doesn't support bytearray in python 2.6\u001b[0m\u001b[0;34m\u001b[0m\u001b[0;34m\u001b[0m\u001b[0;34m\u001b[0m\u001b[0m\n\u001b[1;32m    229\u001b[0m             \u001b[0;31m# so it is converted (and copied) to bytes\u001b[0m\u001b[0;34m\u001b[0m\u001b[0;34m\u001b[0m\u001b[0;34m\u001b[0m\u001b[0m\n",
            "\u001b[0;32m/usr/local/lib/python3.7/dist-packages/dawg_python/wrapper.py\u001b[0m in \u001b[0;36mnext\u001b[0;34m(self)\u001b[0m\n\u001b[1;32m    152\u001b[0m                         \u001b[0;32mbreak\u001b[0m\u001b[0;34m\u001b[0m\u001b[0;34m\u001b[0m\u001b[0m\n\u001b[1;32m    153\u001b[0m \u001b[0;34m\u001b[0m\u001b[0m\n\u001b[0;32m--> 154\u001b[0;31m         \u001b[0;32mreturn\u001b[0m \u001b[0mself\u001b[0m\u001b[0;34m.\u001b[0m\u001b[0m_find_terminal\u001b[0m\u001b[0;34m(\u001b[0m\u001b[0mindex\u001b[0m\u001b[0;34m)\u001b[0m\u001b[0;34m\u001b[0m\u001b[0;34m\u001b[0m\u001b[0m\n\u001b[0m\u001b[1;32m    155\u001b[0m \u001b[0;34m\u001b[0m\u001b[0m\n\u001b[1;32m    156\u001b[0m     \u001b[0;32mdef\u001b[0m \u001b[0m_follow\u001b[0m\u001b[0;34m(\u001b[0m\u001b[0mself\u001b[0m\u001b[0;34m,\u001b[0m \u001b[0mlabel\u001b[0m\u001b[0;34m,\u001b[0m \u001b[0mindex\u001b[0m\u001b[0;34m)\u001b[0m\u001b[0;34m:\u001b[0m\u001b[0;34m\u001b[0m\u001b[0;34m\u001b[0m\u001b[0m\n",
            "\u001b[0;32m/usr/local/lib/python3.7/dist-packages/dawg_python/wrapper.py\u001b[0m in \u001b[0;36m_find_terminal\u001b[0;34m(self, index)\u001b[0m\n\u001b[1;32m    167\u001b[0m             \u001b[0mlabel\u001b[0m \u001b[0;34m=\u001b[0m \u001b[0mself\u001b[0m\u001b[0;34m.\u001b[0m\u001b[0m_guide\u001b[0m\u001b[0;34m.\u001b[0m\u001b[0mchild\u001b[0m\u001b[0;34m(\u001b[0m\u001b[0mindex\u001b[0m\u001b[0;34m)\u001b[0m\u001b[0;34m\u001b[0m\u001b[0;34m\u001b[0m\u001b[0m\n\u001b[1;32m    168\u001b[0m \u001b[0;34m\u001b[0m\u001b[0m\n\u001b[0;32m--> 169\u001b[0;31m             \u001b[0mindex\u001b[0m \u001b[0;34m=\u001b[0m \u001b[0mself\u001b[0m\u001b[0;34m.\u001b[0m\u001b[0m_dic\u001b[0m\u001b[0;34m.\u001b[0m\u001b[0mfollow_char\u001b[0m\u001b[0;34m(\u001b[0m\u001b[0mlabel\u001b[0m\u001b[0;34m,\u001b[0m \u001b[0mindex\u001b[0m\u001b[0;34m)\u001b[0m\u001b[0;34m\u001b[0m\u001b[0;34m\u001b[0m\u001b[0m\n\u001b[0m\u001b[1;32m    170\u001b[0m             \u001b[0;32mif\u001b[0m \u001b[0mindex\u001b[0m \u001b[0;32mis\u001b[0m \u001b[0;32mNone\u001b[0m\u001b[0;34m:\u001b[0m\u001b[0;34m\u001b[0m\u001b[0;34m\u001b[0m\u001b[0m\n\u001b[1;32m    171\u001b[0m                 \u001b[0;32mreturn\u001b[0m \u001b[0;32mFalse\u001b[0m\u001b[0;34m\u001b[0m\u001b[0;34m\u001b[0m\u001b[0m\n",
            "\u001b[0;32m/usr/local/lib/python3.7/dist-packages/dawg_python/wrapper.py\u001b[0m in \u001b[0;36mfollow_char\u001b[0;34m(self, label, index)\u001b[0m\n\u001b[1;32m     54\u001b[0m         \u001b[0mnext_index\u001b[0m \u001b[0;34m=\u001b[0m \u001b[0;34m(\u001b[0m\u001b[0mindex\u001b[0m \u001b[0;34m^\u001b[0m \u001b[0moffset\u001b[0m \u001b[0;34m^\u001b[0m \u001b[0mlabel\u001b[0m\u001b[0;34m)\u001b[0m \u001b[0;34m&\u001b[0m \u001b[0munits\u001b[0m\u001b[0;34m.\u001b[0m\u001b[0mPRECISION_MASK\u001b[0m\u001b[0;34m\u001b[0m\u001b[0;34m\u001b[0m\u001b[0m\n\u001b[1;32m     55\u001b[0m \u001b[0;34m\u001b[0m\u001b[0m\n\u001b[0;32m---> 56\u001b[0;31m         \u001b[0;32mif\u001b[0m \u001b[0munits\u001b[0m\u001b[0;34m.\u001b[0m\u001b[0mlabel\u001b[0m\u001b[0;34m(\u001b[0m\u001b[0mself\u001b[0m\u001b[0;34m.\u001b[0m\u001b[0m_units\u001b[0m\u001b[0;34m[\u001b[0m\u001b[0mnext_index\u001b[0m\u001b[0;34m]\u001b[0m\u001b[0;34m)\u001b[0m \u001b[0;34m!=\u001b[0m \u001b[0mlabel\u001b[0m\u001b[0;34m:\u001b[0m\u001b[0;34m\u001b[0m\u001b[0;34m\u001b[0m\u001b[0m\n\u001b[0m\u001b[1;32m     57\u001b[0m             \u001b[0;32mreturn\u001b[0m \u001b[0;32mNone\u001b[0m\u001b[0;34m\u001b[0m\u001b[0;34m\u001b[0m\u001b[0m\n\u001b[1;32m     58\u001b[0m \u001b[0;34m\u001b[0m\u001b[0m\n",
            "\u001b[0;31mKeyboardInterrupt\u001b[0m: "
          ]
        }
      ]
    },
    {
      "cell_type": "code",
      "source": [
        "df_val['poses'] = df_val['Text'].apply(lambda x: get_pos(get_text(x)))"
      ],
      "metadata": {
        "id": "fo2KLFceUU8b"
      },
      "execution_count": null,
      "outputs": []
    },
    {
      "cell_type": "code",
      "source": [
        "df_test['poses'] = df_test['Text'].apply(lambda x: get_pos(get_text(x)))"
      ],
      "metadata": {
        "id": "N6PytATnUZ40"
      },
      "execution_count": null,
      "outputs": []
    },
    {
      "cell_type": "code",
      "source": [
        "df_train"
      ],
      "metadata": {
        "id": "nLRx6rFsEmFp"
      },
      "execution_count": null,
      "outputs": []
    },
    {
      "cell_type": "code",
      "execution_count": null,
      "metadata": {
        "id": "QF0lyqiYXABQ"
      },
      "outputs": [],
      "source": [
        "df_train.columns = ['id', 'input', 'target','poses']\n",
        "df_train = df_train[['input', 'target','poses']]\n",
        "df_train['target'].replace({'H': 1, 'M': 0}, inplace=True)\n",
        "df_train.head()"
      ]
    },
    {
      "cell_type": "code",
      "execution_count": null,
      "metadata": {
        "id": "kYvakbjbSDcI"
      },
      "outputs": [],
      "source": [
        "df_val.columns = ['input', 'target', 'poses']\n",
        "df_val = df_val[['input', 'target', 'poses']]\n",
        "df_val['target'].replace({'H': 1, 'M': 0}, inplace=True)\n"
      ]
    },
    {
      "cell_type": "code",
      "source": [
        "df_test.columns = ['id', 'input','poses']\n",
        "df_test = df_test[['input','poses']]"
      ],
      "metadata": {
        "id": "_vucuFikFKzM"
      },
      "execution_count": null,
      "outputs": []
    },
    {
      "cell_type": "code",
      "source": [
        "df_train['len_tokens'] = df_train['poses'].apply(lambda x: len(x))\n",
        "df_val['len_tokens'] = df_val['poses'].apply(lambda x: len(x))\n",
        "df_test['len_tokens'] = df_test['poses'].apply(lambda x: len(x))"
      ],
      "metadata": {
        "id": "aPLr-40yFcIz"
      },
      "execution_count": null,
      "outputs": []
    },
    {
      "cell_type": "code",
      "source": [
        "text = df_train.input[0]"
      ],
      "metadata": {
        "id": "CpAEscSSJbgS"
      },
      "execution_count": null,
      "outputs": []
    },
    {
      "cell_type": "code",
      "source": [
        "def avg_token_len(text):\n",
        "  text = text.lower()\n",
        "  for p in string.punctuation:\n",
        "      if p in text:\n",
        "        # банальная замена символа в строке\n",
        "        words = text.replace(p, '')\n",
        "        words = re.sub(r'[^\\w\\s]+|[\\d]+', r'',words)\n",
        "      else:\n",
        "        words = re.sub(r'[^\\w\\s]+|[\\d]+', r'',text)\n",
        "        \n",
        "  \n",
        "  words = words.split()\n",
        "\n",
        "  length = 0\n",
        "  clean_words = []\n",
        "  for el in words:\n",
        "    if el not in stopwords.words(\"russian\"):\n",
        "      clean_words.append(el)\n",
        "      length += len(el)\n",
        "\n",
        "\n",
        "  if len(clean_words) > 0:\n",
        "    result = length / len(clean_words)\n",
        "  else:\n",
        "    result = 0\n",
        "\n",
        "\n",
        "  return round(result)"
      ],
      "metadata": {
        "id": "juNGo_nJIUrq"
      },
      "execution_count": null,
      "outputs": []
    },
    {
      "cell_type": "code",
      "source": [
        "def unknown_tag(list_of_tags):\n",
        "  k = 0\n",
        "  for el in list_of_tags:\n",
        "    if el == None:\n",
        "      k += 1\n",
        "  return k"
      ],
      "metadata": {
        "id": "4RQYEl4Ebs_1"
      },
      "execution_count": null,
      "outputs": []
    },
    {
      "cell_type": "code",
      "source": [
        "df_train['avg_len_token'] = df_train['input'].apply(lambda x: avg_token_len(x))\n",
        "df_val['avg_len_token'] = df_val['input'].apply(lambda x: avg_token_len(x))\n",
        "df_test['avg_len_token'] = df_test['input'].apply(lambda x: avg_token_len(x))"
      ],
      "metadata": {
        "id": "sYvFGqD_Jk7x"
      },
      "execution_count": null,
      "outputs": []
    },
    {
      "cell_type": "code",
      "source": [
        "df_train['unknown_tag'] = df_train['poses'].apply(lambda x: unknown_tag(x))\n",
        "df_val['unknown_tag'] = df_val['poses'].apply(lambda x: unknown_tag(x))\n",
        "df_test['unknown_tag'] = df_test['poses'].apply(lambda x: unknown_tag(x))"
      ],
      "metadata": {
        "id": "e8sRZ9v4bscW"
      },
      "execution_count": null,
      "outputs": []
    },
    {
      "cell_type": "code",
      "execution_count": null,
      "metadata": {
        "id": "EbKmsA_FXkkV"
      },
      "outputs": [],
      "source": [
        "sns.countplot(df_train['target'])\n",
        "plt.title('target distribution in df')"
      ]
    },
    {
      "cell_type": "code",
      "execution_count": null,
      "metadata": {
        "id": "W2fZPzB1Q_xu"
      },
      "outputs": [],
      "source": [
        "df_train['target'].value_counts()"
      ]
    },
    {
      "cell_type": "code",
      "source": [
        "def stroka(sample):\n",
        "  new_list = []\n",
        "  for k in sample:\n",
        "    if k == None:\n",
        "      new_list.append('NONE')\n",
        "    else:\n",
        "      new_list.append(k)\n",
        "  return ' '.join(new_list)"
      ],
      "metadata": {
        "id": "xxxKNEd_qJ0E"
      },
      "execution_count": null,
      "outputs": []
    },
    {
      "cell_type": "code",
      "source": [
        "df_train['poses'] = df_train['poses'].apply(lambda x: stroka(x))\n",
        "df_val['poses'] = df_val['poses'].apply(lambda x: stroka(x))\n",
        "df_test['poses'] = df_test['poses'].apply(lambda x: stroka(x))"
      ],
      "metadata": {
        "id": "w4ReAJ3go-L-"
      },
      "execution_count": null,
      "outputs": []
    },
    {
      "cell_type": "code",
      "source": [
        "df_train"
      ],
      "metadata": {
        "id": "wwCLkK_PcW7s"
      },
      "execution_count": null,
      "outputs": []
    },
    {
      "cell_type": "markdown",
      "metadata": {
        "id": "OsMoHf2-aPhw"
      },
      "source": [
        "# Подготовка датасета"
      ]
    },
    {
      "cell_type": "code",
      "execution_count": null,
      "metadata": {
        "id": "09LdW6U-J4Py"
      },
      "outputs": [],
      "source": [
        "from sklearn.model_selection import train_test_split"
      ]
    },
    {
      "cell_type": "markdown",
      "metadata": {
        "id": "rirHHX61RvW_"
      },
      "source": [
        "Оставляем 60% данных, сохраняем баланс данных (стратифицированный сплин по тагретной переменной)"
      ]
    },
    {
      "cell_type": "code",
      "execution_count": null,
      "metadata": {
        "id": "F9EK5-1aJ4YV"
      },
      "outputs": [],
      "source": [
        "new_df_train, _ = train_test_split(df_train, test_size=0.4, random_state=10, shuffle=True, stratify=df_train['target'])"
      ]
    },
    {
      "cell_type": "code",
      "execution_count": null,
      "metadata": {
        "colab": {
          "base_uri": "https://localhost:8080/"
        },
        "id": "gnNgU0M7J4a-",
        "outputId": "5ed78f82-721f-4d8e-fcd0-c21a5887e390"
      },
      "outputs": [
        {
          "output_type": "execute_result",
          "data": {
            "text/plain": [
              "1    38721\n",
              "0    38718\n",
              "Name: target, dtype: int64"
            ]
          },
          "metadata": {},
          "execution_count": 104
        }
      ],
      "source": [
        "new_df_train['target'].value_counts()"
      ]
    },
    {
      "cell_type": "code",
      "execution_count": null,
      "metadata": {
        "id": "dyp_EhDzJ4eI"
      },
      "outputs": [],
      "source": [
        "new_df_val, _ = train_test_split(df_val, test_size=0.4, random_state=10, shuffle=True, stratify=df_val['target'])"
      ]
    },
    {
      "cell_type": "code",
      "execution_count": null,
      "metadata": {
        "colab": {
          "base_uri": "https://localhost:8080/"
        },
        "id": "vl1yvwwjSEAm",
        "outputId": "58fdeec2-4e91-4e7c-a2e2-7308f0388d0c"
      },
      "outputs": [
        {
          "output_type": "execute_result",
          "data": {
            "text/plain": [
              "1    10756\n",
              "0    10755\n",
              "Name: target, dtype: int64"
            ]
          },
          "metadata": {},
          "execution_count": 106
        }
      ],
      "source": [
        "df_val['target'].value_counts()"
      ]
    },
    {
      "cell_type": "code",
      "execution_count": null,
      "metadata": {
        "colab": {
          "base_uri": "https://localhost:8080/"
        },
        "id": "W8vTLIVvSFmJ",
        "outputId": "28fd4450-27aa-4de6-c2cb-8138eb1dead4"
      },
      "outputs": [
        {
          "output_type": "execute_result",
          "data": {
            "text/plain": [
              "1    6453\n",
              "0    6453\n",
              "Name: target, dtype: int64"
            ]
          },
          "metadata": {},
          "execution_count": 107
        }
      ],
      "source": [
        "new_df_val['target'].value_counts()"
      ]
    },
    {
      "cell_type": "code",
      "execution_count": null,
      "metadata": {
        "id": "9z8RiY2aSRzm"
      },
      "outputs": [],
      "source": [
        "new_df_train.to_csv('/content/new_df_train.csv', encoding='utf-8')\n",
        "new_df_val.to_csv('/content/new_df_val.csv', encoding='utf-8')"
      ]
    },
    {
      "cell_type": "code",
      "execution_count": null,
      "metadata": {
        "colab": {
          "base_uri": "https://localhost:8080/",
          "height": 295
        },
        "id": "nmG6gogSBqPa",
        "outputId": "f1d1bcb6-fa44-4c2f-e913-28ef66a16ac8"
      },
      "outputs": [
        {
          "output_type": "display_data",
          "data": {
            "text/plain": [
              "<Figure size 1152x288 with 3 Axes>"
            ],
            "image/png": "[encoded data removed]"
          },
          "metadata": {
            "needs_background": "light"
          }
        }
      ],
      "source": [
        "fig, (ax1, ax2, ax3) = plt.subplots(1, 3, figsize=(16, 4))\n",
        "sns.countplot(df_train['target'], ax = ax1)\n",
        "ax1.set_title('df_train distribution')\n",
        "\n",
        "# sns.countplot(df_test['target'], ax = ax2)\n",
        "# ax2.set_title('df_test distribution')\n",
        "\n",
        "sns.countplot(df_val['target'], ax = ax3)\n",
        "ax3.set_title('df_val distribution')\n",
        "\n",
        "fig.show()"
      ]
    },
    {
      "cell_type": "code",
      "source": [
        "import pandas as pd\n",
        "import numpy as np\n",
        "\n",
        "from collections import Counter\n",
        "import re\n",
        "\n",
        "import matplotlib.pyplot as plt\n",
        "from sklearn.model_selection import train_test_split\n",
        "\n",
        "from sklearn.pipeline import Pipeline\n",
        "from sklearn.linear_model import PassiveAggressiveClassifier\n",
        "from sklearn.naive_bayes import MultinomialNB\n",
        "from sklearn.feature_extraction.text import TfidfVectorizer\n",
        "from sklearn.ensemble import RandomForestClassifier\n",
        "from sklearn.linear_model import LogisticRegression\n",
        "from sklearn.model_selection import GridSearchCV\n",
        "from sklearn.metrics import classification_report\n",
        "from sklearn.model_selection import StratifiedKFold\n",
        "from sklearn.metrics import f1_score, classification_report\n",
        "import statistics\n",
        "import seaborn as sn\n",
        "import matplotlib.pyplot  as plt\n",
        "from sklearn.metrics import classification_report, confusion_matrix\n",
        "\n",
        "from time import time\n",
        "\n",
        "\n",
        "import joblib\n",
        "import json\n",
        "import warnings\n",
        "warnings.filterwarnings('ignore')"
      ],
      "metadata": {
        "id": "P44fEZoFgyHv"
      },
      "execution_count": 6,
      "outputs": []
    },
    {
      "cell_type": "code",
      "source": [
        "new_df_train = pd.read_csv('drive/MyDrive/new_df_train.csv')"
      ],
      "metadata": {
        "id": "qnZRudx88Yzg"
      },
      "execution_count": 7,
      "outputs": []
    },
    {
      "cell_type": "code",
      "source": [
        "new_df_val = pd.read_csv('drive/MyDrive/new_df_val.csv')"
      ],
      "metadata": {
        "id": "IjQLz8AE_xhM"
      },
      "execution_count": 8,
      "outputs": []
    },
    {
      "cell_type": "code",
      "source": [
        "new_df_train['poses'] = new_df_train['poses'].apply(lambda x: x.replace(',','').replace(\"'\",'').replace('[','').replace(']',''))\n",
        "new_df_val['poses'] = new_df_val['poses'].apply(lambda x: x.replace(',','').replace(\"'\",'').replace('[','').replace(']',''))"
      ],
      "metadata": {
        "id": "33VaQbPy_7Lj"
      },
      "execution_count": 9,
      "outputs": []
    },
    {
      "cell_type": "code",
      "source": [
        "new_df_train = new_df_train.drop(columns = ['avg_len_token'],axis = 1)"
      ],
      "metadata": {
        "id": "ZVWkmGPGAeq3"
      },
      "execution_count": 10,
      "outputs": []
    },
    {
      "cell_type": "code",
      "source": [
        "new_df_val = new_df_val.drop(columns = ['avg_len_token'],axis = 1)"
      ],
      "metadata": {
        "id": "9APB8W-lOXmD"
      },
      "execution_count": 11,
      "outputs": []
    },
    {
      "cell_type": "code",
      "source": [
        "sns.set(style='whitegrid', palette='muted', font_scale=1.2)\n",
        "HAPPY_COLORS_PALETTE = [\"#01BEFE\", \"#FFDD00\", \"#FF7D00\", \"#FF006D\", \"#ADFF02\", \"#8F00FF\"]\n",
        "sns.set_palette(sns.color_palette(HAPPY_COLORS_PALETTE))"
      ],
      "metadata": {
        "id": "r58yD-Es1eFB"
      },
      "execution_count": 12,
      "outputs": []
    },
    {
      "cell_type": "code",
      "source": [
        "import matplotlib.pyplot as plt\n",
        "import seaborn as sns\n",
        "\n",
        "\n",
        "x = new_df_train.target\n",
        "y = new_df_train.unknown_tag\n",
        "\n",
        "sns.barplot(x=x, y=y);"
      ],
      "metadata": {
        "colab": {
          "base_uri": "https://localhost:8080/",
          "height": 289
        },
        "id": "wAACeth810y-",
        "outputId": "3a1ac084-0918-4ccc-9e14-f2a191f86e40"
      },
      "execution_count": 13,
      "outputs": [
        {
          "output_type": "display_data",
          "data": {
            "text/plain": [
              "<Figure size 432x288 with 1 Axes>"
            ],
            "image/png": "[encoded data removed]"
          },
          "metadata": {}
        }
      ]
    },
    {
      "cell_type": "code",
      "source": [
        "new_df_train = new_df_train.drop(columns = ['Unnamed: 0'],axis = 1)"
      ],
      "metadata": {
        "id": "swlVQdCgBICz"
      },
      "execution_count": 14,
      "outputs": []
    },
    {
      "cell_type": "code",
      "source": [
        "new_df_val = new_df_val.drop(columns = ['Unnamed: 0'],axis = 1)"
      ],
      "metadata": {
        "id": "fdiOeINtCH8H"
      },
      "execution_count": 15,
      "outputs": []
    },
    {
      "cell_type": "code",
      "source": [
        "new_df_train.head()"
      ],
      "metadata": {
        "colab": {
          "base_uri": "https://localhost:8080/",
          "height": 206
        },
        "id": "PbZi0GfeBLzv",
        "outputId": "b2dbf9cf-e2e6-4cc4-c499-221effbd45ee"
      },
      "execution_count": 16,
      "outputs": [
        {
          "output_type": "execute_result",
          "data": {
            "text/plain": [
              "                                               input  target  \\\n",
              "0  Третьей наложницей. \\n- А я не хочу, чтобы ты ...       0   \n",
              "1  12 декабря 2008 года Додик заявил, что мусульм...       1   \n",
              "2  БОЛЕЗНЬ ПРОТЕКАЕТ ТЯЖЕЛЕЕ — Как меняется клини...       1   \n",
              "3  Троцкистское правительство было, зиновьевское ...       1   \n",
              "4  Посему больные специально толкались на рынках ...       1   \n",
              "\n",
              "                                               poses  len_tokens  unknown_tag  \n",
              "0  ADJF NOUN CONJ NPRO PRCL VERB CONJ NPRO NPRO V...          92            0  \n",
              "1  NOUN NOUN NOUN VERB CONJ ADJF NOUN PRED INFN I...          15            0  \n",
              "2            NOUN VERB COMP CONJ VERB ADJF NOUN NOUN           8            0  \n",
              "3  ADJF NOUN VERB ADJF NOUN VERB ADJF NOUN VERB P...          15            0  \n",
              "4  ADVB ADJF ADVB VERB PREP NOUN CONJ PREP NOUN G...          20            0  "
            ],
            "text/html": [
              "\n",
              "  <div id=\"df-f5512e6d-36bc-46d3-9820-c112ae454c46\">\n",
              "    <div class=\"colab-df-container\">\n",
              "      <div>\n",
              "<style scoped>\n",
              "    .dataframe tbody tr th:only-of-type {\n",
              "        vertical-align: middle;\n",
              "    }\n",
              "\n",
              "    .dataframe tbody tr th {\n",
              "        vertical-align: top;\n",
              "    }\n",
              "\n",
              "    .dataframe thead th {\n",
              "        text-align: right;\n",
              "    }\n",
              "</style>\n",
              "<table border=\"1\" class=\"dataframe\">\n",
              "  <thead>\n",
              "    <tr style=\"text-align: right;\">\n",
              "      <th></th>\n",
              "      <th>input</th>\n",
              "      <th>target</th>\n",
              "      <th>poses</th>\n",
              "      <th>len_tokens</th>\n",
              "      <th>unknown_tag</th>\n",
              "    </tr>\n",
              "  </thead>\n",
              "  <tbody>\n",
              "    <tr>\n",
              "      <th>0</th>\n",
              "      <td>Третьей наложницей. \\n- А я не хочу, чтобы ты ...</td>\n",
              "      <td>0</td>\n",
              "      <td>ADJF NOUN CONJ NPRO PRCL VERB CONJ NPRO NPRO V...</td>\n",
              "      <td>92</td>\n",
              "      <td>0</td>\n",
              "    </tr>\n",
              "    <tr>\n",
              "      <th>1</th>\n",
              "      <td>12 декабря 2008 года Додик заявил, что мусульм...</td>\n",
              "      <td>1</td>\n",
              "      <td>NOUN NOUN NOUN VERB CONJ ADJF NOUN PRED INFN I...</td>\n",
              "      <td>15</td>\n",
              "      <td>0</td>\n",
              "    </tr>\n",
              "    <tr>\n",
              "      <th>2</th>\n",
              "      <td>БОЛЕЗНЬ ПРОТЕКАЕТ ТЯЖЕЛЕЕ — Как меняется клини...</td>\n",
              "      <td>1</td>\n",
              "      <td>NOUN VERB COMP CONJ VERB ADJF NOUN NOUN</td>\n",
              "      <td>8</td>\n",
              "      <td>0</td>\n",
              "    </tr>\n",
              "    <tr>\n",
              "      <th>3</th>\n",
              "      <td>Троцкистское правительство было, зиновьевское ...</td>\n",
              "      <td>1</td>\n",
              "      <td>ADJF NOUN VERB ADJF NOUN VERB ADJF NOUN VERB P...</td>\n",
              "      <td>15</td>\n",
              "      <td>0</td>\n",
              "    </tr>\n",
              "    <tr>\n",
              "      <th>4</th>\n",
              "      <td>Посему больные специально толкались на рынках ...</td>\n",
              "      <td>1</td>\n",
              "      <td>ADVB ADJF ADVB VERB PREP NOUN CONJ PREP NOUN G...</td>\n",
              "      <td>20</td>\n",
              "      <td>0</td>\n",
              "    </tr>\n",
              "  </tbody>\n",
              "</table>\n",
              "</div>\n",
              "      <button class=\"colab-df-convert\" onclick=\"convertToInteractive('df-f5512e6d-36bc-46d3-9820-c112ae454c46')\"\n",
              "              title=\"Convert this dataframe to an interactive table.\"\n",
              "              style=\"display:none;\">\n",
              "        \n",
              "  <svg xmlns=\"http://www.w3.org/2000/svg\" height=\"24px\"viewBox=\"0 0 24 24\"\n",
              "       width=\"24px\">\n",
              "    <path d=\"M0 0h24v24H0V0z\" fill=\"none\"/>\n",
              "    <path d=\"M18.56 5.44l.94 2.06.94-2.06 2.06-.94-2.06-.94-.94-2.06-.94 2.06-2.06.94zm-11 1L8.5 8.5l.94-2.06 2.06-.94-2.06-.94L8.5 2.5l-.94 2.06-2.06.94zm10 10l.94 2.06.94-2.06 2.06-.94-2.06-.94-.94-2.06-.94 2.06-2.06.94z\"/><path d=\"M17.41 7.96l-1.37-1.37c-.4-.4-.92-.59-1.43-.59-.52 0-1.04.2-1.43.59L10.3 9.45l-7.72 7.72c-.78.78-.78 2.05 0 2.83L4 21.41c.39.39.9.59 1.41.59.51 0 1.02-.2 1.41-.59l7.78-7.78 2.81-2.81c.8-.78.8-2.07 0-2.86zM5.41 20L4 18.59l7.72-7.72 1.47 1.35L5.41 20z\"/>\n",
              "  </svg>\n",
              "      </button>\n",
              "      \n",
              "  <style>\n",
              "    .colab-df-container {\n",
              "      display:flex;\n",
              "      flex-wrap:wrap;\n",
              "      gap: 12px;\n",
              "    }\n",
              "\n",
              "    .colab-df-convert {\n",
              "      background-color: #E8F0FE;\n",
              "      border: none;\n",
              "      border-radius: 50%;\n",
              "      cursor: pointer;\n",
              "      display: none;\n",
              "      fill: #1967D2;\n",
              "      height: 32px;\n",
              "      padding: 0 0 0 0;\n",
              "      width: 32px;\n",
              "    }\n",
              "\n",
              "    .colab-df-convert:hover {\n",
              "      background-color: #E2EBFA;\n",
              "      box-shadow: 0px 1px 2px rgba(60, 64, 67, 0.3), 0px 1px 3px 1px rgba(60, 64, 67, 0.15);\n",
              "      fill: #174EA6;\n",
              "    }\n",
              "\n",
              "    [theme=dark] .colab-df-convert {\n",
              "      background-color: #3B4455;\n",
              "      fill: #D2E3FC;\n",
              "    }\n",
              "\n",
              "    [theme=dark] .colab-df-convert:hover {\n",
              "      background-color: #434B5C;\n",
              "      box-shadow: 0px 1px 3px 1px rgba(0, 0, 0, 0.15);\n",
              "      filter: drop-shadow(0px 1px 2px rgba(0, 0, 0, 0.3));\n",
              "      fill: #FFFFFF;\n",
              "    }\n",
              "  </style>\n",
              "\n",
              "      <script>\n",
              "        const buttonEl =\n",
              "          document.querySelector('#df-f5512e6d-36bc-46d3-9820-c112ae454c46 button.colab-df-convert');\n",
              "        buttonEl.style.display =\n",
              "          google.colab.kernel.accessAllowed ? 'block' : 'none';\n",
              "\n",
              "        async function convertToInteractive(key) {\n",
              "          const element = document.querySelector('#df-f5512e6d-36bc-46d3-9820-c112ae454c46');\n",
              "          const dataTable =\n",
              "            await google.colab.kernel.invokeFunction('convertToInteractive',\n",
              "                                                     [key], {});\n",
              "          if (!dataTable) return;\n",
              "\n",
              "          const docLinkHtml = 'Like what you see? Visit the ' +\n",
              "            '<a target=\"_blank\" href=https://colab.research.google.com/notebooks/data_table.ipynb>data table notebook</a>'\n",
              "            + ' to learn more about interactive tables.';\n",
              "          element.innerHTML = '';\n",
              "          dataTable['output_type'] = 'display_data';\n",
              "          await google.colab.output.renderOutput(dataTable, element);\n",
              "          const docLink = document.createElement('div');\n",
              "          docLink.innerHTML = docLinkHtml;\n",
              "          element.appendChild(docLink);\n",
              "        }\n",
              "      </script>\n",
              "    </div>\n",
              "  </div>\n",
              "  "
            ]
          },
          "metadata": {},
          "execution_count": 16
        }
      ]
    },
    {
      "cell_type": "code",
      "source": [
        "russian_stopwords = stopwords.words(\"russian\")"
      ],
      "metadata": {
        "id": "ZkKKJa-H552f"
      },
      "execution_count": 17,
      "outputs": []
    },
    {
      "cell_type": "code",
      "source": [
        "\n",
        "new_df_train[\"num_unique_words\"] = new_df_train[\"input\"].apply(lambda x: len(set(str(x).split())))\n",
        "new_df_val[\"num_unique_words\"] = new_df_val[\"input\"].apply(lambda x: len(set(str(x).split())))\n",
        "\n",
        "\n",
        "new_df_train[\"num_chars\"] = new_df_train[\"input\"].apply(lambda x: len(str(x)))\n",
        "new_df_val[\"num_chars\"] = new_df_val[\"input\"].apply(lambda x: len(str(x)))\n",
        "\n",
        "\n",
        "new_df_train[\"num_stopwords\"] = new_df_train[\"input\"].apply(lambda x: len([w for w in str(x).lower().split() if w in russian_stopwords]))\n",
        "new_df_val[\"num_stopwords\"] = new_df_val[\"input\"].apply(lambda x: len([w for w in str(x).lower().split() if w in russian_stopwords]))\n",
        "\n",
        "\n",
        "new_df_train[\"num_punctuations\"] =new_df_train['input'].apply(lambda x: len([c for c in str(x) if c in string.punctuation]) )\n",
        "new_df_val[\"num_punctuations\"] =new_df_val['input'].apply(lambda x: len([c for c in str(x) if c in string.punctuation]) )\n",
        "\n",
        "\n",
        "new_df_train[\"num_words_upper\"] = new_df_train[\"input\"].apply(lambda x: len([w for w in str(x).split() if w.isupper()]))\n",
        "new_df_val[\"num_words_upper\"] = new_df_val[\"input\"].apply(lambda x: len([w for w in str(x).split() if w.isupper()]))\n",
        "\n",
        "\n",
        "new_df_train[\"num_words_title\"] = new_df_train[\"input\"].apply(lambda x: len([w for w in str(x).split() if w.istitle()]))\n",
        "new_df_val[\"num_words_title\"] = new_df_val[\"input\"].apply(lambda x: len([w for w in str(x).split() if w.istitle()]))\n",
        "\n",
        "\n",
        "new_df_train[\"mean_word_len\"] = new_df_train[\"input\"].apply(lambda x: np.mean([len(w) for w in str(x).split()]))\n",
        "new_df_val[\"mean_word_len\"] = new_df_val[\"input\"].apply(lambda x: np.mean([len(w) for w in str(x).split()]))"
      ],
      "metadata": {
        "id": "x7x2O5Wi5Gdb"
      },
      "execution_count": 18,
      "outputs": []
    },
    {
      "cell_type": "code",
      "source": [
        "new_df_train.columns"
      ],
      "metadata": {
        "colab": {
          "base_uri": "https://localhost:8080/"
        },
        "id": "uyCuRuBR79hC",
        "outputId": "593f8517-59a6-450f-dbdc-0303743112f0"
      },
      "execution_count": 19,
      "outputs": [
        {
          "output_type": "execute_result",
          "data": {
            "text/plain": [
              "Index(['input', 'target', 'poses', 'len_tokens', 'unknown_tag',\n",
              "       'num_unique_words', 'num_chars', 'num_stopwords', 'num_punctuations',\n",
              "       'num_words_upper', 'num_words_title', 'mean_word_len'],\n",
              "      dtype='object')"
            ]
          },
          "metadata": {},
          "execution_count": 19
        }
      ]
    },
    {
      "cell_type": "code",
      "source": [
        "import matplotlib.pyplot as plt\n",
        "import seaborn as sns\n",
        "\n",
        "\n",
        "x = new_df_train.target\n",
        "y = new_df_train.mean_word_len\n",
        "\n",
        "sns.barplot(x=x, y=y);"
      ],
      "metadata": {
        "colab": {
          "base_uri": "https://localhost:8080/",
          "height": 289
        },
        "id": "TRiOxvRB8Hvl",
        "outputId": "3f353c9a-7972-42f6-fe7b-39358ff3c707"
      },
      "execution_count": 20,
      "outputs": [
        {
          "output_type": "display_data",
          "data": {
            "text/plain": [
              "<Figure size 432x288 with 1 Axes>"
            ],
            "image/png": "[encoded data removed]"
          },
          "metadata": {}
        }
      ]
    },
    {
      "cell_type": "code",
      "source": [
        "import matplotlib.pyplot as plt\n",
        "import seaborn as sns\n",
        "\n",
        "\n",
        "x = new_df_train.target\n",
        "y = new_df_train.unknown_tag\n",
        "\n",
        "sns.barplot(x=x, y=y);"
      ],
      "metadata": {
        "colab": {
          "base_uri": "https://localhost:8080/",
          "height": 289
        },
        "id": "kD6PWcOWbumx",
        "outputId": "e481ff4e-b610-4206-ddc2-cff7120a0708"
      },
      "execution_count": 21,
      "outputs": [
        {
          "output_type": "display_data",
          "data": {
            "text/plain": [
              "<Figure size 432x288 with 1 Axes>"
            ],
            "image/png": "[encoded data removed]"
          },
          "metadata": {}
        }
      ]
    },
    {
      "cell_type": "code",
      "source": [
        "import matplotlib.pyplot as plt\n",
        "import seaborn as sns\n",
        "\n",
        "\n",
        "x = new_df_train.target\n",
        "y = new_df_train.num_punctuations\n",
        "\n",
        "sns.barplot(x=x, y=y);"
      ],
      "metadata": {
        "colab": {
          "base_uri": "https://localhost:8080/",
          "height": 294
        },
        "id": "ACGlIv8mbyUr",
        "outputId": "1688bb31-4c28-40a7-e068-550e65e51806"
      },
      "execution_count": 22,
      "outputs": [
        {
          "output_type": "display_data",
          "data": {
            "text/plain": [
              "<Figure size 432x288 with 1 Axes>"
            ],
            "image/png": "[encoded data removed]"
          },
          "metadata": {}
        }
      ]
    },
    {
      "cell_type": "code",
      "source": [
        "import matplotlib.pyplot as plt\n",
        "import seaborn as sns\n",
        "\n",
        "\n",
        "x = new_df_train.target\n",
        "y = new_df_train.num_words_upper\n",
        "\n",
        "sns.barplot(x=x, y=y);"
      ],
      "metadata": {
        "colab": {
          "base_uri": "https://localhost:8080/",
          "height": 289
        },
        "id": "bfjXXolEZt_y",
        "outputId": "210cdb6a-613b-4352-bd51-3d00e739f733"
      },
      "execution_count": 23,
      "outputs": [
        {
          "output_type": "display_data",
          "data": {
            "text/plain": [
              "<Figure size 432x288 with 1 Axes>"
            ],
            "image/png": "[encoded data removed]"
          },
          "metadata": {}
        }
      ]
    },
    {
      "cell_type": "markdown",
      "source": [
        "Посмотрим, влияют ли как-то выведенные нами признаки на таргетную переменную."
      ],
      "metadata": {
        "id": "pYSqT-jT15_i"
      }
    },
    {
      "cell_type": "code",
      "source": [
        "cols_to_drop = ['input', 'poses', 'target']\n",
        "train_X = new_df_train.drop(cols_to_drop, axis=1)\n",
        "test_X = new_df_val.drop(cols_to_drop, axis=1)"
      ],
      "metadata": {
        "id": "A1K5ycVK15V5"
      },
      "execution_count": 24,
      "outputs": []
    },
    {
      "cell_type": "code",
      "source": [
        "train_X "
      ],
      "metadata": {
        "colab": {
          "base_uri": "https://localhost:8080/",
          "height": 424
        },
        "id": "-JBKnGbF2Rkb",
        "outputId": "2a253157-4901-48c4-d302-0a18ed9a4a0b"
      },
      "execution_count": 25,
      "outputs": [
        {
          "output_type": "execute_result",
          "data": {
            "text/plain": [
              "       len_tokens  unknown_tag  num_unique_words  num_chars  num_stopwords  \\\n",
              "0              92            0                93        531             40   \n",
              "1              15            0                16        128              4   \n",
              "2               8            0                 9         74              1   \n",
              "3              15            0                11        131              2   \n",
              "4              20            0                19        123              7   \n",
              "...           ...          ...               ...        ...            ...   \n",
              "77434          16            1                13         85              3   \n",
              "77435          92            2                80        738             28   \n",
              "77436          11            0                11         93              3   \n",
              "77437          12            1                13         89              2   \n",
              "77438           6            0                 6         33              3   \n",
              "\n",
              "       num_punctuations  num_words_upper  num_words_title  mean_word_len  \n",
              "0                    36                5               10       4.617021  \n",
              "1                     2                0                3       6.588235  \n",
              "2                     1                3                1       7.333333  \n",
              "3                     4                0                1       7.800000  \n",
              "4                     2                0                1       5.200000  \n",
              "...                 ...              ...              ...            ...  \n",
              "77434                 4                0                1       4.375000  \n",
              "77435                14                2                3       7.032609  \n",
              "77436                 1                0                1       7.545455  \n",
              "77437                 8                1                2       5.923077  \n",
              "77438                 1                1                1       4.666667  \n",
              "\n",
              "[77439 rows x 9 columns]"
            ],
            "text/html": [
              "\n",
              "  <div id=\"df-c7802b7f-1462-444f-885a-4b57dc29adfe\">\n",
              "    <div class=\"colab-df-container\">\n",
              "      <div>\n",
              "<style scoped>\n",
              "    .dataframe tbody tr th:only-of-type {\n",
              "        vertical-align: middle;\n",
              "    }\n",
              "\n",
              "    .dataframe tbody tr th {\n",
              "        vertical-align: top;\n",
              "    }\n",
              "\n",
              "    .dataframe thead th {\n",
              "        text-align: right;\n",
              "    }\n",
              "</style>\n",
              "<table border=\"1\" class=\"dataframe\">\n",
              "  <thead>\n",
              "    <tr style=\"text-align: right;\">\n",
              "      <th></th>\n",
              "      <th>len_tokens</th>\n",
              "      <th>unknown_tag</th>\n",
              "      <th>num_unique_words</th>\n",
              "      <th>num_chars</th>\n",
              "      <th>num_stopwords</th>\n",
              "      <th>num_punctuations</th>\n",
              "      <th>num_words_upper</th>\n",
              "      <th>num_words_title</th>\n",
              "      <th>mean_word_len</th>\n",
              "    </tr>\n",
              "  </thead>\n",
              "  <tbody>\n",
              "    <tr>\n",
              "      <th>0</th>\n",
              "      <td>92</td>\n",
              "      <td>0</td>\n",
              "      <td>93</td>\n",
              "      <td>531</td>\n",
              "      <td>40</td>\n",
              "      <td>36</td>\n",
              "      <td>5</td>\n",
              "      <td>10</td>\n",
              "      <td>4.617021</td>\n",
              "    </tr>\n",
              "    <tr>\n",
              "      <th>1</th>\n",
              "      <td>15</td>\n",
              "      <td>0</td>\n",
              "      <td>16</td>\n",
              "      <td>128</td>\n",
              "      <td>4</td>\n",
              "      <td>2</td>\n",
              "      <td>0</td>\n",
              "      <td>3</td>\n",
              "      <td>6.588235</td>\n",
              "    </tr>\n",
              "    <tr>\n",
              "      <th>2</th>\n",
              "      <td>8</td>\n",
              "      <td>0</td>\n",
              "      <td>9</td>\n",
              "      <td>74</td>\n",
              "      <td>1</td>\n",
              "      <td>1</td>\n",
              "      <td>3</td>\n",
              "      <td>1</td>\n",
              "      <td>7.333333</td>\n",
              "    </tr>\n",
              "    <tr>\n",
              "      <th>3</th>\n",
              "      <td>15</td>\n",
              "      <td>0</td>\n",
              "      <td>11</td>\n",
              "      <td>131</td>\n",
              "      <td>2</td>\n",
              "      <td>4</td>\n",
              "      <td>0</td>\n",
              "      <td>1</td>\n",
              "      <td>7.800000</td>\n",
              "    </tr>\n",
              "    <tr>\n",
              "      <th>4</th>\n",
              "      <td>20</td>\n",
              "      <td>0</td>\n",
              "      <td>19</td>\n",
              "      <td>123</td>\n",
              "      <td>7</td>\n",
              "      <td>2</td>\n",
              "      <td>0</td>\n",
              "      <td>1</td>\n",
              "      <td>5.200000</td>\n",
              "    </tr>\n",
              "    <tr>\n",
              "      <th>...</th>\n",
              "      <td>...</td>\n",
              "      <td>...</td>\n",
              "      <td>...</td>\n",
              "      <td>...</td>\n",
              "      <td>...</td>\n",
              "      <td>...</td>\n",
              "      <td>...</td>\n",
              "      <td>...</td>\n",
              "      <td>...</td>\n",
              "    </tr>\n",
              "    <tr>\n",
              "      <th>77434</th>\n",
              "      <td>16</td>\n",
              "      <td>1</td>\n",
              "      <td>13</td>\n",
              "      <td>85</td>\n",
              "      <td>3</td>\n",
              "      <td>4</td>\n",
              "      <td>0</td>\n",
              "      <td>1</td>\n",
              "      <td>4.375000</td>\n",
              "    </tr>\n",
              "    <tr>\n",
              "      <th>77435</th>\n",
              "      <td>92</td>\n",
              "      <td>2</td>\n",
              "      <td>80</td>\n",
              "      <td>738</td>\n",
              "      <td>28</td>\n",
              "      <td>14</td>\n",
              "      <td>2</td>\n",
              "      <td>3</td>\n",
              "      <td>7.032609</td>\n",
              "    </tr>\n",
              "    <tr>\n",
              "      <th>77436</th>\n",
              "      <td>11</td>\n",
              "      <td>0</td>\n",
              "      <td>11</td>\n",
              "      <td>93</td>\n",
              "      <td>3</td>\n",
              "      <td>1</td>\n",
              "      <td>0</td>\n",
              "      <td>1</td>\n",
              "      <td>7.545455</td>\n",
              "    </tr>\n",
              "    <tr>\n",
              "      <th>77437</th>\n",
              "      <td>12</td>\n",
              "      <td>1</td>\n",
              "      <td>13</td>\n",
              "      <td>89</td>\n",
              "      <td>2</td>\n",
              "      <td>8</td>\n",
              "      <td>1</td>\n",
              "      <td>2</td>\n",
              "      <td>5.923077</td>\n",
              "    </tr>\n",
              "    <tr>\n",
              "      <th>77438</th>\n",
              "      <td>6</td>\n",
              "      <td>0</td>\n",
              "      <td>6</td>\n",
              "      <td>33</td>\n",
              "      <td>3</td>\n",
              "      <td>1</td>\n",
              "      <td>1</td>\n",
              "      <td>1</td>\n",
              "      <td>4.666667</td>\n",
              "    </tr>\n",
              "  </tbody>\n",
              "</table>\n",
              "<p>77439 rows × 9 columns</p>\n",
              "</div>\n",
              "      <button class=\"colab-df-convert\" onclick=\"convertToInteractive('df-c7802b7f-1462-444f-885a-4b57dc29adfe')\"\n",
              "              title=\"Convert this dataframe to an interactive table.\"\n",
              "              style=\"display:none;\">\n",
              "        \n",
              "  <svg xmlns=\"http://www.w3.org/2000/svg\" height=\"24px\"viewBox=\"0 0 24 24\"\n",
              "       width=\"24px\">\n",
              "    <path d=\"M0 0h24v24H0V0z\" fill=\"none\"/>\n",
              "    <path d=\"M18.56 5.44l.94 2.06.94-2.06 2.06-.94-2.06-.94-.94-2.06-.94 2.06-2.06.94zm-11 1L8.5 8.5l.94-2.06 2.06-.94-2.06-.94L8.5 2.5l-.94 2.06-2.06.94zm10 10l.94 2.06.94-2.06 2.06-.94-2.06-.94-.94-2.06-.94 2.06-2.06.94z\"/><path d=\"M17.41 7.96l-1.37-1.37c-.4-.4-.92-.59-1.43-.59-.52 0-1.04.2-1.43.59L10.3 9.45l-7.72 7.72c-.78.78-.78 2.05 0 2.83L4 21.41c.39.39.9.59 1.41.59.51 0 1.02-.2 1.41-.59l7.78-7.78 2.81-2.81c.8-.78.8-2.07 0-2.86zM5.41 20L4 18.59l7.72-7.72 1.47 1.35L5.41 20z\"/>\n",
              "  </svg>\n",
              "      </button>\n",
              "      \n",
              "  <style>\n",
              "    .colab-df-container {\n",
              "      display:flex;\n",
              "      flex-wrap:wrap;\n",
              "      gap: 12px;\n",
              "    }\n",
              "\n",
              "    .colab-df-convert {\n",
              "      background-color: #E8F0FE;\n",
              "      border: none;\n",
              "      border-radius: 50%;\n",
              "      cursor: pointer;\n",
              "      display: none;\n",
              "      fill: #1967D2;\n",
              "      height: 32px;\n",
              "      padding: 0 0 0 0;\n",
              "      width: 32px;\n",
              "    }\n",
              "\n",
              "    .colab-df-convert:hover {\n",
              "      background-color: #E2EBFA;\n",
              "      box-shadow: 0px 1px 2px rgba(60, 64, 67, 0.3), 0px 1px 3px 1px rgba(60, 64, 67, 0.15);\n",
              "      fill: #174EA6;\n",
              "    }\n",
              "\n",
              "    [theme=dark] .colab-df-convert {\n",
              "      background-color: #3B4455;\n",
              "      fill: #D2E3FC;\n",
              "    }\n",
              "\n",
              "    [theme=dark] .colab-df-convert:hover {\n",
              "      background-color: #434B5C;\n",
              "      box-shadow: 0px 1px 3px 1px rgba(0, 0, 0, 0.15);\n",
              "      filter: drop-shadow(0px 1px 2px rgba(0, 0, 0, 0.3));\n",
              "      fill: #FFFFFF;\n",
              "    }\n",
              "  </style>\n",
              "\n",
              "      <script>\n",
              "        const buttonEl =\n",
              "          document.querySelector('#df-c7802b7f-1462-444f-885a-4b57dc29adfe button.colab-df-convert');\n",
              "        buttonEl.style.display =\n",
              "          google.colab.kernel.accessAllowed ? 'block' : 'none';\n",
              "\n",
              "        async function convertToInteractive(key) {\n",
              "          const element = document.querySelector('#df-c7802b7f-1462-444f-885a-4b57dc29adfe');\n",
              "          const dataTable =\n",
              "            await google.colab.kernel.invokeFunction('convertToInteractive',\n",
              "                                                     [key], {});\n",
              "          if (!dataTable) return;\n",
              "\n",
              "          const docLinkHtml = 'Like what you see? Visit the ' +\n",
              "            '<a target=\"_blank\" href=https://colab.research.google.com/notebooks/data_table.ipynb>data table notebook</a>'\n",
              "            + ' to learn more about interactive tables.';\n",
              "          element.innerHTML = '';\n",
              "          dataTable['output_type'] = 'display_data';\n",
              "          await google.colab.output.renderOutput(dataTable, element);\n",
              "          const docLink = document.createElement('div');\n",
              "          docLink.innerHTML = docLinkHtml;\n",
              "          element.appendChild(docLink);\n",
              "        }\n",
              "      </script>\n",
              "    </div>\n",
              "  </div>\n",
              "  "
            ]
          },
          "metadata": {},
          "execution_count": 25
        }
      ]
    },
    {
      "cell_type": "code",
      "source": [
        "import numpy as np \n",
        "import pandas as pd\n",
        "import matplotlib.pyplot as plt\n",
        "import seaborn as sns\n",
        "import nltk\n",
        "from nltk.corpus import stopwords\n",
        "import string\n",
        "import xgboost as xgb\n",
        "from sklearn.feature_extraction.text import TfidfVectorizer, CountVectorizer\n",
        "from sklearn.decomposition import TruncatedSVD\n",
        "from sklearn import ensemble, metrics, model_selection, naive_bayes\n",
        "color = sns.color_palette()\n",
        "\n",
        "%matplotlib inline\n",
        "\n",
        "pd.options.mode.chained_assignment = None"
      ],
      "metadata": {
        "id": "4NzYjGF02jlk"
      },
      "execution_count": 26,
      "outputs": []
    },
    {
      "cell_type": "code",
      "source": [
        "def runXGB(train_X, train_y, test_X, test_y=None, test_X2=None, seed_val=0, child=1, colsample=0.3):\n",
        "    param = {}\n",
        "    param['objective'] = 'multi:softprob'\n",
        "    param['eta'] = 0.1\n",
        "    param['max_depth'] = 3\n",
        "    param['silent'] = 1\n",
        "    param['num_class'] = 2\n",
        "    param['eval_metric'] = \"mlogloss\"\n",
        "    param['min_child_weight'] = child\n",
        "    param['subsample'] = 0.8\n",
        "    param['colsample_bytree'] = colsample\n",
        "    param['seed'] = seed_val\n",
        "    num_rounds = 2000\n",
        "\n",
        "    plst = list(param.items())\n",
        "    xgtrain = xgb.DMatrix(train_X, label=train_y)\n",
        "\n",
        "    if test_y is not None:\n",
        "        xgtest = xgb.DMatrix(test_X, label=test_y)\n",
        "        watchlist = [ (xgtrain,'train'), (xgtest, 'test') ]\n",
        "        model = xgb.train(plst, xgtrain, num_rounds, watchlist, early_stopping_rounds=50, verbose_eval=20)\n",
        "    else:\n",
        "        xgtest = xgb.DMatrix(test_X)\n",
        "        model = xgb.train(plst, xgtrain, num_rounds)\n",
        "\n",
        "    pred_test_y = model.predict(xgtest, ntree_limit = model.best_ntree_limit)\n",
        "    if test_X2 is not None:\n",
        "        xgtest2 = xgb.DMatrix(test_X2)\n",
        "        pred_test_y2 = model.predict(xgtest2, ntree_limit = model.best_ntree_limit)\n",
        "    return pred_test_y, pred_test_y2, model"
      ],
      "metadata": {
        "id": "ARznsc4l2Stm"
      },
      "execution_count": 27,
      "outputs": []
    },
    {
      "cell_type": "code",
      "source": [
        "train_y = new_df_train['target']"
      ],
      "metadata": {
        "id": "4yJqPSzt3S5b"
      },
      "execution_count": 28,
      "outputs": []
    },
    {
      "cell_type": "code",
      "source": [
        "kf = model_selection.KFold(n_splits=5, shuffle=True, random_state=2017)\n",
        "cv_scores = []\n",
        "pred_full_test = 0\n",
        "pred_train = np.zeros([new_df_train.shape[0], 2])\n",
        "for dev_index, val_index in kf.split(train_X):\n",
        "    dev_X, val_X = train_X.loc[dev_index], train_X.loc[val_index]\n",
        "    dev_y, val_y = train_y[dev_index], train_y[val_index]\n",
        "    pred_val_y, pred_test_y, model = runXGB(dev_X, dev_y, val_X, val_y, test_X, seed_val=0)\n",
        "    pred_full_test = pred_full_test + pred_test_y\n",
        "    pred_train[val_index,:] = pred_val_y\n",
        "    cv_scores.append(metrics.log_loss(val_y, pred_val_y))\n",
        "    break\n",
        "print(\"cv scores : \", cv_scores)"
      ],
      "metadata": {
        "colab": {
          "base_uri": "https://localhost:8080/"
        },
        "id": "RRsyoayd2Ztw",
        "outputId": "aed4c085-016c-4c64-ebb9-37ae2602aea6"
      },
      "execution_count": 29,
      "outputs": [
        {
          "output_type": "stream",
          "name": "stdout",
          "text": [
            "[0]\ttrain-mlogloss:0.692069\ttest-mlogloss:0.692127\n",
            "Multiple eval metrics have been passed: 'test-mlogloss' will be used for early stopping.\n",
            "\n",
            "Will train until test-mlogloss hasn't improved in 50 rounds.\n",
            "[20]\ttrain-mlogloss:0.658089\ttest-mlogloss:0.660006\n",
            "[40]\ttrain-mlogloss:0.643392\ttest-mlogloss:0.646056\n",
            "[60]\ttrain-mlogloss:0.632974\ttest-mlogloss:0.636217\n",
            "[80]\ttrain-mlogloss:0.622481\ttest-mlogloss:0.626132\n",
            "[100]\ttrain-mlogloss:0.616565\ttest-mlogloss:0.620431\n",
            "[120]\ttrain-mlogloss:0.61155\ttest-mlogloss:0.61577\n",
            "[140]\ttrain-mlogloss:0.606977\ttest-mlogloss:0.61141\n",
            "[160]\ttrain-mlogloss:0.602196\ttest-mlogloss:0.606806\n",
            "[180]\ttrain-mlogloss:0.598117\ttest-mlogloss:0.602882\n",
            "[200]\ttrain-mlogloss:0.595242\ttest-mlogloss:0.600243\n",
            "[220]\ttrain-mlogloss:0.592586\ttest-mlogloss:0.597728\n",
            "[240]\ttrain-mlogloss:0.59025\ttest-mlogloss:0.595537\n",
            "[260]\ttrain-mlogloss:0.588698\ttest-mlogloss:0.594202\n",
            "[280]\ttrain-mlogloss:0.586185\ttest-mlogloss:0.591848\n",
            "[300]\ttrain-mlogloss:0.584519\ttest-mlogloss:0.590331\n",
            "[320]\ttrain-mlogloss:0.582776\ttest-mlogloss:0.588862\n",
            "[340]\ttrain-mlogloss:0.581573\ttest-mlogloss:0.587817\n",
            "[360]\ttrain-mlogloss:0.580277\ttest-mlogloss:0.586732\n",
            "[380]\ttrain-mlogloss:0.579037\ttest-mlogloss:0.585653\n",
            "[400]\ttrain-mlogloss:0.57776\ttest-mlogloss:0.584492\n",
            "[420]\ttrain-mlogloss:0.5769\ttest-mlogloss:0.583836\n",
            "[440]\ttrain-mlogloss:0.575788\ttest-mlogloss:0.582887\n",
            "[460]\ttrain-mlogloss:0.574913\ttest-mlogloss:0.582157\n",
            "[480]\ttrain-mlogloss:0.574133\ttest-mlogloss:0.581532\n",
            "[500]\ttrain-mlogloss:0.573288\ttest-mlogloss:0.580969\n",
            "[520]\ttrain-mlogloss:0.572577\ttest-mlogloss:0.580483\n",
            "[540]\ttrain-mlogloss:0.571546\ttest-mlogloss:0.579666\n",
            "[560]\ttrain-mlogloss:0.570289\ttest-mlogloss:0.578554\n",
            "[580]\ttrain-mlogloss:0.569751\ttest-mlogloss:0.578138\n",
            "[600]\ttrain-mlogloss:0.568974\ttest-mlogloss:0.577648\n",
            "[620]\ttrain-mlogloss:0.568034\ttest-mlogloss:0.576886\n",
            "[640]\ttrain-mlogloss:0.567399\ttest-mlogloss:0.576464\n",
            "[660]\ttrain-mlogloss:0.566752\ttest-mlogloss:0.575988\n",
            "[680]\ttrain-mlogloss:0.566041\ttest-mlogloss:0.575418\n",
            "[700]\ttrain-mlogloss:0.565475\ttest-mlogloss:0.575046\n",
            "[720]\ttrain-mlogloss:0.564789\ttest-mlogloss:0.574527\n",
            "[740]\ttrain-mlogloss:0.564066\ttest-mlogloss:0.573931\n",
            "[760]\ttrain-mlogloss:0.563429\ttest-mlogloss:0.573326\n",
            "[780]\ttrain-mlogloss:0.56268\ttest-mlogloss:0.572704\n",
            "[800]\ttrain-mlogloss:0.562098\ttest-mlogloss:0.572276\n",
            "[820]\ttrain-mlogloss:0.561553\ttest-mlogloss:0.571899\n",
            "[840]\ttrain-mlogloss:0.561115\ttest-mlogloss:0.571644\n",
            "[860]\ttrain-mlogloss:0.560684\ttest-mlogloss:0.571351\n",
            "[880]\ttrain-mlogloss:0.560212\ttest-mlogloss:0.571113\n",
            "[900]\ttrain-mlogloss:0.559812\ttest-mlogloss:0.570891\n",
            "[920]\ttrain-mlogloss:0.559432\ttest-mlogloss:0.570718\n",
            "[940]\ttrain-mlogloss:0.559018\ttest-mlogloss:0.57052\n",
            "[960]\ttrain-mlogloss:0.558607\ttest-mlogloss:0.5704\n",
            "[980]\ttrain-mlogloss:0.558209\ttest-mlogloss:0.570171\n",
            "[1000]\ttrain-mlogloss:0.557743\ttest-mlogloss:0.569925\n",
            "[1020]\ttrain-mlogloss:0.557235\ttest-mlogloss:0.569586\n",
            "[1040]\ttrain-mlogloss:0.556773\ttest-mlogloss:0.569412\n",
            "[1060]\ttrain-mlogloss:0.556426\ttest-mlogloss:0.569186\n",
            "[1080]\ttrain-mlogloss:0.55605\ttest-mlogloss:0.56906\n",
            "[1100]\ttrain-mlogloss:0.555694\ttest-mlogloss:0.568904\n",
            "[1120]\ttrain-mlogloss:0.555317\ttest-mlogloss:0.568669\n",
            "[1140]\ttrain-mlogloss:0.554907\ttest-mlogloss:0.568452\n",
            "[1160]\ttrain-mlogloss:0.554546\ttest-mlogloss:0.568299\n",
            "[1180]\ttrain-mlogloss:0.55422\ttest-mlogloss:0.568089\n",
            "[1200]\ttrain-mlogloss:0.55386\ttest-mlogloss:0.56799\n",
            "[1220]\ttrain-mlogloss:0.553455\ttest-mlogloss:0.567862\n",
            "[1240]\ttrain-mlogloss:0.553159\ttest-mlogloss:0.567833\n",
            "[1260]\ttrain-mlogloss:0.552877\ttest-mlogloss:0.567816\n",
            "[1280]\ttrain-mlogloss:0.552517\ttest-mlogloss:0.567577\n",
            "[1300]\ttrain-mlogloss:0.552234\ttest-mlogloss:0.567541\n",
            "[1320]\ttrain-mlogloss:0.551954\ttest-mlogloss:0.567434\n",
            "[1340]\ttrain-mlogloss:0.551634\ttest-mlogloss:0.567307\n",
            "[1360]\ttrain-mlogloss:0.551324\ttest-mlogloss:0.567257\n",
            "[1380]\ttrain-mlogloss:0.550967\ttest-mlogloss:0.567139\n",
            "[1400]\ttrain-mlogloss:0.550668\ttest-mlogloss:0.566993\n",
            "[1420]\ttrain-mlogloss:0.550389\ttest-mlogloss:0.566948\n",
            "[1440]\ttrain-mlogloss:0.550029\ttest-mlogloss:0.566749\n",
            "[1460]\ttrain-mlogloss:0.549699\ttest-mlogloss:0.566568\n",
            "[1480]\ttrain-mlogloss:0.549411\ttest-mlogloss:0.566493\n",
            "[1500]\ttrain-mlogloss:0.549148\ttest-mlogloss:0.56642\n",
            "[1520]\ttrain-mlogloss:0.548876\ttest-mlogloss:0.566321\n",
            "[1540]\ttrain-mlogloss:0.548624\ttest-mlogloss:0.566299\n",
            "[1560]\ttrain-mlogloss:0.54836\ttest-mlogloss:0.566248\n",
            "[1580]\ttrain-mlogloss:0.548101\ttest-mlogloss:0.566124\n",
            "[1600]\ttrain-mlogloss:0.547864\ttest-mlogloss:0.566105\n",
            "[1620]\ttrain-mlogloss:0.547591\ttest-mlogloss:0.566129\n",
            "[1640]\ttrain-mlogloss:0.547248\ttest-mlogloss:0.565985\n",
            "[1660]\ttrain-mlogloss:0.547024\ttest-mlogloss:0.5659\n",
            "[1680]\ttrain-mlogloss:0.54676\ttest-mlogloss:0.565861\n",
            "[1700]\ttrain-mlogloss:0.546462\ttest-mlogloss:0.565785\n",
            "[1720]\ttrain-mlogloss:0.546195\ttest-mlogloss:0.565756\n",
            "[1740]\ttrain-mlogloss:0.545894\ttest-mlogloss:0.56567\n",
            "[1760]\ttrain-mlogloss:0.545614\ttest-mlogloss:0.565566\n",
            "[1780]\ttrain-mlogloss:0.545359\ttest-mlogloss:0.565502\n",
            "[1800]\ttrain-mlogloss:0.545132\ttest-mlogloss:0.565515\n",
            "[1820]\ttrain-mlogloss:0.544887\ttest-mlogloss:0.565384\n",
            "[1840]\ttrain-mlogloss:0.544621\ttest-mlogloss:0.565359\n",
            "[1860]\ttrain-mlogloss:0.544371\ttest-mlogloss:0.565299\n",
            "[1880]\ttrain-mlogloss:0.544148\ttest-mlogloss:0.565275\n",
            "[1900]\ttrain-mlogloss:0.543935\ttest-mlogloss:0.565266\n",
            "[1920]\ttrain-mlogloss:0.543721\ttest-mlogloss:0.565216\n",
            "[1940]\ttrain-mlogloss:0.543517\ttest-mlogloss:0.565155\n",
            "[1960]\ttrain-mlogloss:0.543289\ttest-mlogloss:0.56512\n",
            "[1980]\ttrain-mlogloss:0.542999\ttest-mlogloss:0.564982\n",
            "[1999]\ttrain-mlogloss:0.542789\ttest-mlogloss:0.564946\n",
            "cv scores :  [0.5649138987691811]\n"
          ]
        }
      ]
    },
    {
      "cell_type": "code",
      "source": [
        "fig, ax = plt.subplots(figsize=(12,12))\n",
        "xgb.plot_importance(model, max_num_features=10, height=0.8, ax=ax)\n",
        "plt.show()"
      ],
      "metadata": {
        "colab": {
          "base_uri": "https://localhost:8080/",
          "height": 741
        },
        "id": "CdtR9GOl3ebq",
        "outputId": "fe197832-e795-4e80-fde7-63b4afc64c25"
      },
      "execution_count": 30,
      "outputs": [
        {
          "output_type": "display_data",
          "data": {
            "text/plain": [
              "<Figure size 864x864 with 1 Axes>"
            ],
            "image/png": "[encoded data removed]"
          },
          "metadata": {
            "needs_background": "light"
          }
        }
      ]
    },
    {
      "cell_type": "code",
      "source": [
        "tfidf_vec = TfidfVectorizer(ngram_range=(1,3))\n",
        "full_tfidf = tfidf_vec.fit_transform(new_df_train['input'].values.tolist() + new_df_val['input'].values.tolist())\n",
        "train_tfidf = tfidf_vec.transform(new_df_train['input'].values.tolist())\n",
        "test_tfidf = tfidf_vec.transform(new_df_val['input'].values.tolist())"
      ],
      "metadata": {
        "id": "Xl_EpVhHC_OY"
      },
      "execution_count": 31,
      "outputs": []
    },
    {
      "cell_type": "code",
      "source": [
        "def runMNB(train_X, train_y, test_X, test_y, test_X2):\n",
        "    model = naive_bayes.MultinomialNB()\n",
        "    model.fit(train_X, train_y)\n",
        "    pred_test_y = model.predict_proba(test_X)\n",
        "    pred_test_y2 = model.predict_proba(test_X2)\n",
        "    return pred_test_y, pred_test_y2, model"
      ],
      "metadata": {
        "id": "vvwIR5aUDr3e"
      },
      "execution_count": 32,
      "outputs": []
    },
    {
      "cell_type": "code",
      "source": [
        "cv_scores = []\n",
        "pred_full_test = 0\n",
        "pred_train = np.zeros([new_df_train.shape[0], 2])\n",
        "kf = model_selection.KFold(n_splits=5, shuffle=True, random_state=2017)\n",
        "for dev_index, val_index in kf.split(train_X):\n",
        "    dev_X, val_X = train_tfidf[dev_index], train_tfidf[val_index]\n",
        "    dev_y, val_y = train_y[dev_index], train_y[val_index]\n",
        "    pred_val_y, pred_test_y, model = runMNB(dev_X, dev_y, val_X, val_y, test_tfidf)\n",
        "    pred_full_test = pred_full_test + pred_test_y\n",
        "    pred_train[val_index,:] = pred_val_y\n",
        "    cv_scores.append(metrics.log_loss(val_y, pred_val_y))\n",
        "print(\"Mean cv score : \", np.mean(cv_scores))\n",
        "pred_full_test = pred_full_test / 5."
      ],
      "metadata": {
        "colab": {
          "base_uri": "https://localhost:8080/"
        },
        "id": "rWJY3Gm0D8PO",
        "outputId": "bb638148-cfbd-4584-8056-2297f173ff16"
      },
      "execution_count": 33,
      "outputs": [
        {
          "output_type": "stream",
          "name": "stdout",
          "text": [
            "Mean cv score :  0.6250140720006392\n"
          ]
        }
      ]
    },
    {
      "cell_type": "code",
      "source": [
        "import itertools\n",
        "from sklearn.metrics import confusion_matrix\n",
        "\n",
        "def plot_confusion_matrix(cm, classes,\n",
        "                          normalize=False,\n",
        "                          title='Confusion matrix',\n",
        "                          cmap=plt.cm.Blues):\n",
        "    if normalize:\n",
        "        cm = cm.astype('float') / cm.sum(axis=1)[:, np.newaxis]\n",
        "\n",
        "    plt.imshow(cm, interpolation='nearest', cmap=cmap)\n",
        "    plt.title(title)\n",
        "    plt.colorbar()\n",
        "    tick_marks = np.arange(len(classes))\n",
        "    plt.xticks(tick_marks, classes, rotation=45)\n",
        "    plt.yticks(tick_marks, classes)\n",
        "\n",
        "    fmt = '.2f' if normalize else 'd'\n",
        "    thresh = cm.max() / 2.\n",
        "    for i, j in itertools.product(range(cm.shape[0]), range(cm.shape[1])):\n",
        "        plt.text(j, i, format(cm[i, j], fmt),\n",
        "                 horizontalalignment=\"center\",\n",
        "                 color=\"white\" if cm[i, j] > thresh else \"black\")\n",
        "\n",
        "    plt.tight_layout()\n",
        "    plt.ylabel('True label')\n",
        "    plt.xlabel('Predicted label')"
      ],
      "metadata": {
        "id": "4JgZtAiVECVN"
      },
      "execution_count": 34,
      "outputs": []
    },
    {
      "cell_type": "code",
      "source": [
        "cnf_matrix = confusion_matrix(val_y, np.argmax(pred_val_y,axis=1))\n",
        "np.set_printoptions(precision=2)\n",
        "\n",
        "plt.figure(figsize=(8,8))\n",
        "plot_confusion_matrix(cnf_matrix, classes=['H', 'M'],\n",
        "                      title='Confusion matrix')\n",
        "plt.show()"
      ],
      "metadata": {
        "colab": {
          "base_uri": "https://localhost:8080/",
          "height": 585
        },
        "id": "Ge5CVHKFE8mH",
        "outputId": "85a5a7dd-1312-4653-ea38-8a28a5064c0d"
      },
      "execution_count": 35,
      "outputs": [
        {
          "output_type": "display_data",
          "data": {
            "text/plain": [
              "<Figure size 576x576 with 2 Axes>"
            ],
            "image/png": "[encoded data removed]"
          },
          "metadata": {
            "needs_background": "light"
          }
        }
      ]
    },
    {
      "cell_type": "code",
      "source": [
        "\n",
        "print(classification_report(val_y, np.argmax(pred_val_y,axis=1), target_names=['H', 'M']))"
      ],
      "metadata": {
        "colab": {
          "base_uri": "https://localhost:8080/"
        },
        "id": "2OC0nRTntIGG",
        "outputId": "7a4014ab-bd9b-4b2b-f17b-8ffe5dd4eba9"
      },
      "execution_count": 36,
      "outputs": [
        {
          "output_type": "stream",
          "name": "stdout",
          "text": [
            "              precision    recall  f1-score   support\n",
            "\n",
            "           H       0.59      0.80      0.68      7739\n",
            "           M       0.69      0.46      0.55      7748\n",
            "\n",
            "    accuracy                           0.63     15487\n",
            "   macro avg       0.64      0.63      0.61     15487\n",
            "weighted avg       0.64      0.63      0.61     15487\n",
            "\n"
          ]
        }
      ]
    },
    {
      "cell_type": "code",
      "source": [
        "n_comp = 20\n",
        "svd_obj = TruncatedSVD(n_components=n_comp, algorithm='arpack')\n",
        "svd_obj.fit(full_tfidf)\n",
        "train_svd = pd.DataFrame(svd_obj.transform(train_tfidf))\n",
        "test_svd = pd.DataFrame(svd_obj.transform(test_tfidf))\n",
        "    \n",
        "train_svd.columns = ['svd_word_'+str(i) for i in range(n_comp)]\n",
        "test_svd.columns = ['svd_word_'+str(i) for i in range(n_comp)]\n",
        "train_df = pd.concat([new_df_train, train_svd], axis=1)\n",
        "test_df = pd.concat([new_df_val, test_svd], axis=1)\n",
        "del full_tfidf, train_tfidf, test_tfidf, train_svd, test_svd"
      ],
      "metadata": {
        "id": "cY_-cC10FC61"
      },
      "execution_count": 37,
      "outputs": []
    },
    {
      "cell_type": "code",
      "source": [
        "tfidf_vec = TfidfVectorizer(ngram_range=(1,5), analyzer='char')\n",
        "full_tfidf = tfidf_vec.fit_transform(train_df['input'].values.tolist() + test_df['input'].values.tolist())\n",
        "train_tfidf = tfidf_vec.transform(train_df['input'].values.tolist())\n",
        "test_tfidf = tfidf_vec.transform(test_df['input'].values.tolist())\n",
        "\n",
        "cv_scores = []\n",
        "pred_full_test = 0\n",
        "pred_train = np.zeros([train_df.shape[0], 2])\n",
        "kf = model_selection.KFold(n_splits=5, shuffle=True, random_state=2017)\n",
        "for dev_index, val_index in kf.split(train_X):\n",
        "    dev_X, val_X = train_tfidf[dev_index], train_tfidf[val_index]\n",
        "    dev_y, val_y = train_y[dev_index], train_y[val_index]\n",
        "    pred_val_y, pred_test_y, model = runMNB(dev_X, dev_y, val_X, val_y, test_tfidf)\n",
        "    pred_full_test = pred_full_test + pred_test_y\n",
        "    pred_train[val_index,:] = pred_val_y\n",
        "    cv_scores.append(metrics.log_loss(val_y, pred_val_y))\n",
        "print(\"Mean cv score : \", np.mean(cv_scores))\n",
        "pred_full_test = pred_full_test / 5.\n",
        "\n",
        "# add the predictions as new features #\n",
        "train_df[\"nb_cvec_char_h\"] = pred_train[:,0]\n",
        "train_df[\"nb_cvec_char_m\"] = pred_train[:,1]\n",
        "test_df[\"nb_cvec_char_h\"] = pred_full_test[:,0]\n",
        "test_df[\"nb_cvec_char_m\"] = pred_full_test[:,1]"
      ],
      "metadata": {
        "colab": {
          "base_uri": "https://localhost:8080/"
        },
        "id": "Iz_HxfDpIkkN",
        "outputId": "c5bbefae-1b45-467f-e19f-3663b72d4946"
      },
      "execution_count": 38,
      "outputs": [
        {
          "output_type": "stream",
          "name": "stdout",
          "text": [
            "Mean cv score :  0.6177985349761294\n"
          ]
        }
      ]
    },
    {
      "cell_type": "code",
      "source": [
        "cnf_matrix = confusion_matrix(val_y, np.argmax(pred_val_y,axis=1))\n",
        "np.set_printoptions(precision=2)\n",
        "\n",
        "plt.figure(figsize=(8,8))\n",
        "plot_confusion_matrix(cnf_matrix, classes=['H', 'M'],\n",
        "                      title='Confusion matrix of NB on word count')\n",
        "plt.show()"
      ],
      "metadata": {
        "colab": {
          "base_uri": "https://localhost:8080/",
          "height": 585
        },
        "id": "GKX_HfSDIbD7",
        "outputId": "312f7669-7e75-4d22-f812-54d8f3fa7f72"
      },
      "execution_count": 39,
      "outputs": [
        {
          "output_type": "display_data",
          "data": {
            "text/plain": [
              "<Figure size 576x576 with 2 Axes>"
            ],
            "image/png": "[encoded data removed]"
          },
          "metadata": {
            "needs_background": "light"
          }
        }
      ]
    },
    {
      "cell_type": "code",
      "source": [
        "print(classification_report(val_y, np.argmax(pred_val_y,axis=1), target_names=['H', 'M']))"
      ],
      "metadata": {
        "colab": {
          "base_uri": "https://localhost:8080/"
        },
        "id": "4r35NZuoun_d",
        "outputId": "b3582657-2e9f-4033-a25c-422e8a83fd24"
      },
      "execution_count": 40,
      "outputs": [
        {
          "output_type": "stream",
          "name": "stdout",
          "text": [
            "              precision    recall  f1-score   support\n",
            "\n",
            "           H       0.61      0.79      0.69      7739\n",
            "           M       0.71      0.50      0.59      7748\n",
            "\n",
            "    accuracy                           0.65     15487\n",
            "   macro avg       0.66      0.65      0.64     15487\n",
            "weighted avg       0.66      0.65      0.64     15487\n",
            "\n"
          ]
        }
      ]
    },
    {
      "cell_type": "code",
      "source": [
        "n_comp = 20\n",
        "svd_obj = TruncatedSVD(n_components=n_comp, algorithm='arpack')\n",
        "svd_obj.fit(full_tfidf)\n",
        "train_svd = pd.DataFrame(svd_obj.transform(train_tfidf))\n",
        "test_svd = pd.DataFrame(svd_obj.transform(test_tfidf))\n",
        "    \n",
        "train_svd.columns = ['svd_char_'+str(i) for i in range(n_comp)]\n",
        "test_svd.columns = ['svd_char_'+str(i) for i in range(n_comp)]\n",
        "train_df = pd.concat([train_df, train_svd], axis=1)\n",
        "test_df = pd.concat([test_df, test_svd], axis=1)\n",
        "del full_tfidf, train_tfidf, test_tfidf, train_svd, test_svd"
      ],
      "metadata": {
        "id": "RBPmk6S_LuhG"
      },
      "execution_count": 41,
      "outputs": []
    },
    {
      "cell_type": "code",
      "source": [
        "cols_to_drop = ['input', 'poses', 'target']\n",
        "train_X = train_df.drop(cols_to_drop, axis=1)\n",
        "test_X = test_df.drop(cols_to_drop, axis=1)\n",
        "\n",
        "kf = model_selection.KFold(n_splits=5, shuffle=True, random_state=2017)\n",
        "cv_scores = []\n",
        "pred_full_test = 0\n",
        "pred_train = np.zeros([train_df.shape[0], 2])\n",
        "for dev_index, val_index in kf.split(train_X):\n",
        "    dev_X, val_X = train_X.loc[dev_index], train_X.loc[val_index]\n",
        "    dev_y, val_y = train_y[dev_index], train_y[val_index]\n",
        "    pred_val_y, pred_test_y, model = runXGB(dev_X, dev_y, val_X, val_y, test_X, seed_val=0, colsample=0.7)\n",
        "    pred_full_test = pred_full_test + pred_test_y\n",
        "    pred_train[val_index,:] = pred_val_y\n",
        "    cv_scores.append(metrics.log_loss(val_y, pred_val_y))\n",
        "    break\n",
        "print(\"cv scores : \", cv_scores)\n"
      ],
      "metadata": {
        "colab": {
          "base_uri": "https://localhost:8080/"
        },
        "id": "wAWrsH1zMwiZ",
        "outputId": "e16c5e6f-b963-4ff2-f802-caa592e6176f"
      },
      "execution_count": 42,
      "outputs": [
        {
          "output_type": "stream",
          "name": "stdout",
          "text": [
            "[0]\ttrain-mlogloss:0.675283\ttest-mlogloss:0.675052\n",
            "Multiple eval metrics have been passed: 'test-mlogloss' will be used for early stopping.\n",
            "\n",
            "Will train until test-mlogloss hasn't improved in 50 rounds.\n",
            "[20]\ttrain-mlogloss:0.570457\ttest-mlogloss:0.571426\n",
            "[40]\ttrain-mlogloss:0.550783\ttest-mlogloss:0.553234\n",
            "[60]\ttrain-mlogloss:0.540547\ttest-mlogloss:0.544353\n",
            "[80]\ttrain-mlogloss:0.534099\ttest-mlogloss:0.539243\n",
            "[100]\ttrain-mlogloss:0.529572\ttest-mlogloss:0.535934\n",
            "[120]\ttrain-mlogloss:0.525353\ttest-mlogloss:0.533208\n",
            "[140]\ttrain-mlogloss:0.521788\ttest-mlogloss:0.530702\n",
            "[160]\ttrain-mlogloss:0.51891\ttest-mlogloss:0.529028\n",
            "[180]\ttrain-mlogloss:0.516367\ttest-mlogloss:0.527829\n",
            "[200]\ttrain-mlogloss:0.513766\ttest-mlogloss:0.526576\n",
            "[220]\ttrain-mlogloss:0.511414\ttest-mlogloss:0.525546\n",
            "[240]\ttrain-mlogloss:0.509197\ttest-mlogloss:0.524532\n",
            "[260]\ttrain-mlogloss:0.507055\ttest-mlogloss:0.52366\n",
            "[280]\ttrain-mlogloss:0.505008\ttest-mlogloss:0.523046\n",
            "[300]\ttrain-mlogloss:0.502973\ttest-mlogloss:0.522424\n",
            "[320]\ttrain-mlogloss:0.501213\ttest-mlogloss:0.522012\n",
            "[340]\ttrain-mlogloss:0.499538\ttest-mlogloss:0.521733\n",
            "[360]\ttrain-mlogloss:0.497697\ttest-mlogloss:0.521317\n",
            "[380]\ttrain-mlogloss:0.496028\ttest-mlogloss:0.520823\n",
            "[400]\ttrain-mlogloss:0.494512\ttest-mlogloss:0.52041\n",
            "[420]\ttrain-mlogloss:0.492925\ttest-mlogloss:0.52028\n",
            "[440]\ttrain-mlogloss:0.491418\ttest-mlogloss:0.520178\n",
            "[460]\ttrain-mlogloss:0.489962\ttest-mlogloss:0.519958\n",
            "[480]\ttrain-mlogloss:0.488521\ttest-mlogloss:0.519898\n",
            "[500]\ttrain-mlogloss:0.487092\ttest-mlogloss:0.519739\n",
            "[520]\ttrain-mlogloss:0.485703\ttest-mlogloss:0.51959\n",
            "[540]\ttrain-mlogloss:0.484322\ttest-mlogloss:0.519361\n",
            "[560]\ttrain-mlogloss:0.482857\ttest-mlogloss:0.519321\n",
            "[580]\ttrain-mlogloss:0.48154\ttest-mlogloss:0.519143\n",
            "[600]\ttrain-mlogloss:0.480247\ttest-mlogloss:0.51897\n",
            "[620]\ttrain-mlogloss:0.478859\ttest-mlogloss:0.518941\n",
            "[640]\ttrain-mlogloss:0.477642\ttest-mlogloss:0.518814\n",
            "[660]\ttrain-mlogloss:0.476305\ttest-mlogloss:0.518744\n",
            "[680]\ttrain-mlogloss:0.4751\ttest-mlogloss:0.518734\n",
            "[700]\ttrain-mlogloss:0.473794\ttest-mlogloss:0.518519\n",
            "[720]\ttrain-mlogloss:0.472476\ttest-mlogloss:0.518435\n",
            "[740]\ttrain-mlogloss:0.471273\ttest-mlogloss:0.518278\n",
            "[760]\ttrain-mlogloss:0.470017\ttest-mlogloss:0.518305\n",
            "[780]\ttrain-mlogloss:0.468781\ttest-mlogloss:0.518236\n",
            "[800]\ttrain-mlogloss:0.467509\ttest-mlogloss:0.518293\n",
            "[820]\ttrain-mlogloss:0.466294\ttest-mlogloss:0.518431\n",
            "Stopping. Best iteration:\n",
            "[787]\ttrain-mlogloss:0.46831\ttest-mlogloss:0.518214\n",
            "\n",
            "cv scores :  [0.518213372832989]\n"
          ]
        }
      ]
    },
    {
      "cell_type": "code",
      "source": [
        "### Plot the important variables ###\n",
        "fig, ax = plt.subplots(figsize=(12,12))\n",
        "xgb.plot_importance(model, max_num_features=50, height=0.8, ax=ax)\n",
        "plt.show()"
      ],
      "metadata": {
        "colab": {
          "base_uri": "https://localhost:8080/",
          "height": 741
        },
        "id": "jaVS8MatM9En",
        "outputId": "abb405e5-bd0a-43a9-861a-90642f29a879"
      },
      "execution_count": 43,
      "outputs": [
        {
          "output_type": "display_data",
          "data": {
            "text/plain": [
              "<Figure size 864x864 with 1 Axes>"
            ],
            "image/png": "[encoded data removed]"
          },
          "metadata": {
            "needs_background": "light"
          }
        }
      ]
    },
    {
      "cell_type": "code",
      "source": [
        "cnf_matrix = confusion_matrix(val_y, np.argmax(pred_val_y,axis=1))\n",
        "np.set_printoptions(precision=2)\n",
        "\n",
        "# Plot non-normalized confusion matrix\n",
        "plt.figure(figsize=(8,8))\n",
        "plot_confusion_matrix(cnf_matrix, classes=['H', 'M'],\n",
        "                      title='Confusion matrix of XGB')\n",
        "plt.show()"
      ],
      "metadata": {
        "id": "g6uxWGJQNXOq",
        "colab": {
          "base_uri": "https://localhost:8080/",
          "height": 585
        },
        "outputId": "91942430-7f42-4ca6-f6fe-a4a4536cde9c"
      },
      "execution_count": 44,
      "outputs": [
        {
          "output_type": "display_data",
          "data": {
            "text/plain": [
              "<Figure size 576x576 with 2 Axes>"
            ],
            "image/png": "[encoded data removed]"
          },
          "metadata": {
            "needs_background": "light"
          }
        }
      ]
    },
    {
      "cell_type": "code",
      "source": [
        "print('\\nClassification Report')\n",
        "print(classification_report(val_y, np.argmax(pred_val_y,axis=1), target_names=['H','M']))"
      ],
      "metadata": {
        "id": "Qow5Jiffa-8y",
        "colab": {
          "base_uri": "https://localhost:8080/"
        },
        "outputId": "61b52da0-8bbb-4254-af27-0b2e22a55510"
      },
      "execution_count": 45,
      "outputs": [
        {
          "output_type": "stream",
          "name": "stdout",
          "text": [
            "\n",
            "Classification Report\n",
            "              precision    recall  f1-score   support\n",
            "\n",
            "           H       0.69      0.73      0.71      7700\n",
            "           M       0.72      0.68      0.70      7788\n",
            "\n",
            "    accuracy                           0.71     15488\n",
            "   macro avg       0.71      0.71      0.71     15488\n",
            "weighted avg       0.71      0.71      0.71     15488\n",
            "\n"
          ]
        }
      ]
    },
    {
      "cell_type": "code",
      "source": [
        "def text_cls(CLS_ALGORITHM,X_train,  y_train, X_test, y_test, path_save):\n",
        "    if CLS_ALGORITHM == 'LogisticRegression':\n",
        "        nb =  LogisticRegression()\n",
        "        parameters_nb = {'penalty': ( \"l1\", \"l2\"),\n",
        "                         'C': (1.5, 1, 0.5),\n",
        "                         'class_weight': ['balanced']}\n",
        " \n",
        "    elif CLS_ALGORITHM == 'MultinomialNB':\n",
        "        nb = Pipeline([('vectorizer', TfidfVectorizer(use_idf=True,\n",
        "                                                 smooth_idf=True,\n",
        "                                                 sublinear_tf=True)),\n",
        "                ('clf',MultinomialNB())])\n",
        "        parameters_nb = {'vectorizer__ngram_range': [(1, 2), (2,2)],\n",
        "               'clf__alpha': ( 0.01, 0.001)}\n",
        "    elif CLS_ALGORITHM == 'RandomForestClassifier':   \n",
        "        nb = Pipeline([('vectorizer', TfidfVectorizer(use_idf=True,\n",
        "                                                 smooth_idf=True,\n",
        "                                                 sublinear_tf=True)),\n",
        "                ('clf', RandomForestClassifier())])\n",
        " \n",
        " \n",
        "        parameters_nb = {'vectorizer__ngram_range': [(1, 1), (1, 2), (2,2)],\n",
        "               'clf__class_weight': (\"balanced\", \"balances_subsample\")}\n",
        "    else:\n",
        "      nb = PassiveAggressiveClassifier()\n",
        "      parameters_nb = {'max_iter': ( 1000, 2000),\n",
        "                        'C': (1.5, 1, 0.5),} \n",
        "\n",
        "    gs_clf_nb = GridSearchCV(nb, parameters_nb, n_jobs=-1, scoring = \"f1_weighted\")\n",
        "\n",
        "    \n",
        "    gs_clf_nb = gs_clf_nb.fit(X_train, y_train)\n",
        "    print(gs_clf_nb.best_score_)\n",
        "    print(gs_clf_nb.best_params_)\n",
        "    r = gs_clf_nb.best_estimator_\n",
        "    predicted = r.predict(X_test)\n",
        "    joblib.dump(r, f'{path_save}_{CLS_ALGORITHM}.pkl')\n",
        "    return y_test, predicted"
      ],
      "metadata": {
        "id": "5IwX_WVHGzxl"
      },
      "execution_count": 46,
      "outputs": []
    },
    {
      "cell_type": "code",
      "source": [
        "def visualize(y_true, y_pred, df, target_column, new_path):\n",
        "    plt.figure(figsize=(7,5))\n",
        "    array=confusion_matrix(y_true, y_pred)\n",
        "    a = [sorted(df[target_column].unique())]\n",
        "    df_cm = pd.DataFrame(array, index=a, columns=a)\n",
        "    sn.set(font_scale=1.2)\n",
        "    sn.heatmap(df_cm, annot=True, annot_kws={'size':9}, cmap='Blues',fmt='g')\n",
        "    plt.xticks(rotation=60)\n",
        "    plt.xlabel('Предсказанный класс')\n",
        "    plt.ylabel('Реальный класс')\n",
        "    plt.savefig(new_path + '_'+ 'image.png')\n",
        "    plt.show()"
      ],
      "metadata": {
        "id": "ttH2fq8bHECe"
      },
      "execution_count": 47,
      "outputs": []
    },
    {
      "cell_type": "code",
      "source": [
        "vect = TfidfVectorizer(use_idf=True, min_df=50, ngram_range=(1,2))\n",
        "X_train = vect.fit_transform(new_df_train.input)\n",
        "y_train = new_df_train.target\n",
        "X_test = vect.fit_transform(new_df_val.input)\n",
        "y_test = new_df_val.target"
      ],
      "metadata": {
        "id": "vjrd8ncNjF1y"
      },
      "execution_count": 51,
      "outputs": []
    },
    {
      "cell_type": "code",
      "source": [
        "df1 = pd.DataFrame(X_train.toarray())   # //Convert sparse matrix to array\n",
        "df2 = new_df_train[['len_tokens','unknown_tag', 'num_unique_words', 'num_chars', 'num_stopwords','num_punctuations', 'num_words_upper','num_words_title','mean_word_len']]\n",
        "\n",
        "newDf_train = pd.concat([df1, df2], axis = 1)"
      ],
      "metadata": {
        "id": "_oHOyCbkoSmb"
      },
      "execution_count": 52,
      "outputs": []
    },
    {
      "cell_type": "code",
      "source": [
        "df1 = pd.DataFrame(X_test.toarray())   # //Convert sparse matrix to array\n",
        "df2 = new_df_val[['len_tokens','unknown_tag', 'num_unique_words', 'num_chars', 'num_stopwords','num_punctuations', 'num_words_upper','num_words_title','mean_word_len']]\n",
        "\n",
        "newDf_test = pd.concat([df1, df2], axis = 1)"
      ],
      "metadata": {
        "id": "ZfVzXwqKpyxs"
      },
      "execution_count": 53,
      "outputs": []
    },
    {
      "cell_type": "code",
      "source": [
        "y_test, predicted = text_cls('PassiveAgressive', newDf_train,  y_train, newDf_test, y_test, './')\n",
        "print(classification_report(y_test, predicted))\n",
        "visualize(y_test, predicted, train_df, 'target', './')"
      ],
      "metadata": {
        "id": "UXkZwvhrpPiv"
      },
      "execution_count": null,
      "outputs": []
    },
    {
      "cell_type": "code",
      "source": [
        "y_test, predicted = text_cls('LogisticRegression', train_X,  train_y, test_X, y_test, './')\n",
        "print(classification_report(y_test, predicted))\n",
        "visualize(y_test, predicted, train_df, 'target', './')"
      ],
      "metadata": {
        "colab": {
          "base_uri": "https://localhost:8080/",
          "height": 542
        },
        "id": "Z5l4t0yId3Ez",
        "outputId": "c3c7b662-0a61-4381-fd8d-8a79b95844e3"
      },
      "execution_count": 50,
      "outputs": [
        {
          "output_type": "stream",
          "name": "stdout",
          "text": [
            "0.6683613473075465\n",
            "{'C': 1.5, 'class_weight': 'balanced', 'penalty': 'l2'}\n",
            "              precision    recall  f1-score   support\n",
            "\n",
            "           0       0.66      0.69      0.68      6453\n",
            "           1       0.68      0.65      0.66      6453\n",
            "\n",
            "    accuracy                           0.67     12906\n",
            "   macro avg       0.67      0.67      0.67     12906\n",
            "weighted avg       0.67      0.67      0.67     12906\n",
            "\n"
          ]
        },
        {
          "output_type": "display_data",
          "data": {
            "text/plain": [
              "<Figure size 504x360 with 2 Axes>"
            ],
            "image/png": "[encoded data removed]"
          },
          "metadata": {
            "needs_background": "light"
          }
        }
      ]
    },
    {
      "cell_type": "code",
      "source": [
        ""
      ],
      "metadata": {
        "id": "_fbmdQ6repSb"
      },
      "execution_count": null,
      "outputs": []
    }
  ],
  "metadata": {
    "colab": {
      "collapsed_sections": [],
      "name": "ML-models.ipynb",
      "provenance": []
    },
    "kernelspec": {
      "display_name": "Python 3",
      "name": "python3"
    },
    "language_info": {
      "name": "python"
    }
  },
  "nbformat": 4,
  "nbformat_minor": 0
}