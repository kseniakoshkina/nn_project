{
  "nbformat": 4,
  "nbformat_minor": 0,
  "metadata": {
    "colab": {
      "name": "data analytics",
      "provenance": [],
      "collapsed_sections": []
    },
    "kernelspec": {
      "name": "python3",
      "display_name": "Python 3"
    },
    "language_info": {
      "name": "python"
    },
    "accelerator": "GPU"
  },
  "cells": [
    {
      "cell_type": "code",
      "execution_count": null,
      "metadata": {
        "id": "mFE-xUqMqOCL"
      },
      "outputs": [],
      "source": [
        "import pandas as pd \n",
        "import numpy as np \n",
        "import matplotlib.pyplot as plt\n",
        "import seaborn as sns \n",
        "from collections import defaultdict"
      ]
    },
    {
      "cell_type": "code",
      "source": [
        "from google.colab import drive\n",
        "drive.mount('/content/drive')"
      ],
      "metadata": {
        "colab": {
          "base_uri": "https://localhost:8080/"
        },
        "id": "uWqum7COBgWE",
        "outputId": "e0369809-1d0a-4005-c133-2be7e29184d6"
      },
      "execution_count": null,
      "outputs": [
        {
          "output_type": "stream",
          "name": "stdout",
          "text": [
            "Mounted at /content/drive\n"
          ]
        }
      ]
    },
    {
      "cell_type": "code",
      "source": [
        "df_train = pd.read_csv('/content/drive/MyDrive/NNMethodsProject/ruatd-2022-bi/train.csv')\n",
        "df_val = pd.read_csv('/content/drive/MyDrive/NNMethodsProject/ruatd-2022-bi/val.csv')\n",
        "df_test = pd.read_csv('/content/drive/MyDrive/NNMethodsProject/ruatd-2022-bi/test.csv')"
      ],
      "metadata": {
        "id": "qcnQPO-iBi7X"
      },
      "execution_count": null,
      "outputs": []
    },
    {
      "cell_type": "code",
      "source": [
        "df_train.columns = ['id', 'input', 'label']\n",
        "# df_train = df_train[['input', 'label']]\n",
        "# df_train['label'].replace({'H': 1, 'M': 0}, inplace=True)\n",
        "# df_train.head()"
      ],
      "metadata": {
        "id": "Jr0vkNLvBpmE"
      },
      "execution_count": null,
      "outputs": []
    },
    {
      "cell_type": "code",
      "source": [
        "df_val.columns = ['id', 'input', 'label']\n",
        "df_val = df_val[['input', 'label']]\n",
        "# df_val['label'].replace({'H': 1, 'M': 0}, inplace=True)\n",
        "\n",
        "df_test.columns = ['id', 'input']\n",
        "df_test = df_test[['input']]"
      ],
      "metadata": {
        "id": "mkGfI5VaBryU"
      },
      "execution_count": null,
      "outputs": []
    },
    {
      "cell_type": "code",
      "source": [
        "sns.set(style='whitegrid', palette='muted', font_scale=1.2)\n",
        "HAPPY_COLORS_PALETTE = [\"#01BEFE\", \"#FFDD00\", \"#FF7D00\", \"#FF006D\", \"#ADFF02\", \"#8F00FF\"]\n",
        "sns.set_palette(sns.color_palette(HAPPY_COLORS_PALETTE))"
      ],
      "metadata": {
        "id": "8zHHIFXWup-Y"
      },
      "execution_count": null,
      "outputs": []
    },
    {
      "cell_type": "code",
      "source": [
        "sns.countplot(df_train['label'])\n",
        "plt.title('Class distribution in train data')"
      ],
      "metadata": {
        "colab": {
          "base_uri": "https://localhost:8080/",
          "height": 378
        },
        "id": "hOsEEb7KBvkf",
        "outputId": "b682376d-8307-4ed2-e6cd-3fa227448656"
      },
      "execution_count": null,
      "outputs": [
        {
          "output_type": "stream",
          "name": "stderr",
          "text": [
            "/usr/local/lib/python3.7/dist-packages/seaborn/_decorators.py:43: FutureWarning: Pass the following variable as a keyword arg: x. From version 0.12, the only valid positional argument will be `data`, and passing other arguments without an explicit keyword will result in an error or misinterpretation.\n",
            "  FutureWarning\n"
          ]
        },
        {
          "output_type": "execute_result",
          "data": {
            "text/plain": [
              "Text(0.5, 1.0, 'Class distribution in train data')"
            ]
          },
          "metadata": {},
          "execution_count": 7
        },
        {
          "output_type": "display_data",
          "data": {
            "text/plain": [
              "<Figure size 432x288 with 1 Axes>"
            ],
            "image/png": "[encoded data removed]"
          },
          "metadata": {}
        }
      ]
    },
    {
      "cell_type": "code",
      "source": [
        "df_train['label'].value_counts()"
      ],
      "metadata": {
        "colab": {
          "base_uri": "https://localhost:8080/"
        },
        "id": "UfyIPE7WBxk4",
        "outputId": "a97f4b10-6a16-4cbb-9901-43467bebba29"
      },
      "execution_count": null,
      "outputs": [
        {
          "output_type": "execute_result",
          "data": {
            "text/plain": [
              "1    64535\n",
              "0    64531\n",
              "Name: label, dtype: int64"
            ]
          },
          "metadata": {},
          "execution_count": 7
        }
      ]
    },
    {
      "cell_type": "code",
      "source": [
        "df_train['text_len'] = df_train['input'].apply(lambda x: len(x))"
      ],
      "metadata": {
        "id": "QNwdhX1E5fx8"
      },
      "execution_count": null,
      "outputs": []
    },
    {
      "cell_type": "code",
      "source": [
        "df_train['text_len'].max()"
      ],
      "metadata": {
        "id": "qsDJDuKD58aU",
        "outputId": "4d80f72b-e891-4d2f-e42c-561efe696dae",
        "colab": {
          "base_uri": "https://localhost:8080/"
        }
      },
      "execution_count": null,
      "outputs": [
        {
          "output_type": "execute_result",
          "data": {
            "text/plain": [
              "3560"
            ]
          },
          "metadata": {},
          "execution_count": 12
        }
      ]
    },
    {
      "cell_type": "code",
      "source": [
        "df_train[df_train['label'] == 'H']['text_len'].max()"
      ],
      "metadata": {
        "id": "TPktn99I5_-Z",
        "outputId": "3ba6c572-c058-42f1-b9ee-219284dc4f14",
        "colab": {
          "base_uri": "https://localhost:8080/"
        }
      },
      "execution_count": null,
      "outputs": [
        {
          "output_type": "execute_result",
          "data": {
            "text/plain": [
              "2963"
            ]
          },
          "metadata": {},
          "execution_count": 13
        }
      ]
    },
    {
      "cell_type": "code",
      "source": [
        "df_train[df_train['label'] == 'H']['text_len'].mean()"
      ],
      "metadata": {
        "id": "DbJng_ps6HCN",
        "outputId": "a033cc01-425e-4659-9d72-121ae27b5319",
        "colab": {
          "base_uri": "https://localhost:8080/"
        }
      },
      "execution_count": null,
      "outputs": [
        {
          "output_type": "execute_result",
          "data": {
            "text/plain": [
              "221.472022933292"
            ]
          },
          "metadata": {},
          "execution_count": 14
        }
      ]
    },
    {
      "cell_type": "code",
      "source": [
        "df_train[df_train['label'] == 'M']['text_len'].max()"
      ],
      "metadata": {
        "id": "47A7tphA6Jfv",
        "outputId": "bf255fa3-571e-4ee2-c214-f1ca1aba2f12",
        "colab": {
          "base_uri": "https://localhost:8080/"
        }
      },
      "execution_count": null,
      "outputs": [
        {
          "output_type": "execute_result",
          "data": {
            "text/plain": [
              "3560"
            ]
          },
          "metadata": {},
          "execution_count": 15
        }
      ]
    },
    {
      "cell_type": "code",
      "source": [
        "df_train[df_train['label'] == 'M']['text_len'].mean()"
      ],
      "metadata": {
        "id": "27vBf5Dg6Jub",
        "outputId": "d75d502f-8386-42ed-e514-38104767ec40",
        "colab": {
          "base_uri": "https://localhost:8080/"
        }
      },
      "execution_count": null,
      "outputs": [
        {
          "output_type": "execute_result",
          "data": {
            "text/plain": [
              "236.86135345802793"
            ]
          },
          "metadata": {},
          "execution_count": 16
        }
      ]
    },
    {
      "cell_type": "code",
      "source": [
        "plt.figure(figsize=(10, 6))\n",
        "sns.boxplot(x=\"label\", y=\"text_len\", data=df_train)\n",
        "plt.ylim((0, 3500))\n",
        "plt.title('length of texts by label')\n",
        "plt.ylabel('length of texts')\n",
        "plt.xlabel('label');"
      ],
      "metadata": {
        "id": "N4LZELyY5VHo",
        "outputId": "33b1c160-d784-495a-f917-2aed5c950cfa",
        "colab": {
          "base_uri": "https://localhost:8080/",
          "height": 415
        }
      },
      "execution_count": null,
      "outputs": [
        {
          "output_type": "display_data",
          "data": {
            "text/plain": [
              "<Figure size 720x432 with 1 Axes>"
            ],
            "image/png": "[encoded data removed]"
          },
          "metadata": {}
        }
      ]
    },
    {
      "cell_type": "code",
      "source": [
        "plt.figure(figsize=(10, 6))\n",
        "sns.boxplot(x=\"label\", y=\"text_len\", data=df_train)\n",
        "plt.ylim((0, 200))\n",
        "plt.title('length of texts by label')\n",
        "plt.ylabel('length of texts')\n",
        "plt.xlabel('label');"
      ],
      "metadata": {
        "id": "mB_FVXZi8B-A",
        "outputId": "8860d806-43f0-4b36-d6ba-ee607ac30f32",
        "colab": {
          "base_uri": "https://localhost:8080/",
          "height": 415
        }
      },
      "execution_count": null,
      "outputs": [
        {
          "output_type": "display_data",
          "data": {
            "text/plain": [
              "<Figure size 720x432 with 1 Axes>"
            ],
            "image/png": "[encoded data removed]"
          },
          "metadata": {}
        }
      ]
    },
    {
      "cell_type": "code",
      "source": [
        "df_train['tok_num'] = df_train['input'].apply(lambda x: len(x.split()))"
      ],
      "metadata": {
        "id": "Rq_d5XeaCmfu"
      },
      "execution_count": null,
      "outputs": []
    },
    {
      "cell_type": "code",
      "source": [
        "plt.figure(figsize=(10, 6))\n",
        "sns.boxplot(x=\"label\", y=\"tok_num\", data=df_train)\n",
        "plt.ylim((0, 50))\n",
        "plt.title('N of tokens in text by label')\n",
        "plt.ylabel('N of tokens in text')\n",
        "plt.xlabel('label');"
      ],
      "metadata": {
        "id": "sVMoht8DCmih",
        "outputId": "fd98ad47-7143-4daf-e3e7-b475e602c67b",
        "colab": {
          "base_uri": "https://localhost:8080/",
          "height": 415
        }
      },
      "execution_count": null,
      "outputs": [
        {
          "output_type": "display_data",
          "data": {
            "text/plain": [
              "<Figure size 720x432 with 1 Axes>"
            ],
            "image/png": "[encoded data removed]"
          },
          "metadata": {}
        }
      ]
    },
    {
      "cell_type": "code",
      "source": [
        "def tokens_length(text):\n",
        "  text = text.split()\n",
        "  return int(np.asarray([len(t) for t in text]).mean())"
      ],
      "metadata": {
        "id": "UjtAVojY6zx8"
      },
      "execution_count": null,
      "outputs": []
    },
    {
      "cell_type": "code",
      "source": [
        "df_train['tok_len'] = df_train['input'].apply(lambda x: tokens_length(x))"
      ],
      "metadata": {
        "id": "aFQljvsL6z49"
      },
      "execution_count": null,
      "outputs": []
    },
    {
      "cell_type": "code",
      "source": [
        "df_train[df_train['tok_len'] == 106]"
      ],
      "metadata": {
        "id": "TjRLA_EY9J49",
        "outputId": "ba5ef055-ce63-4dcc-cb0c-2e98d0380ea1",
        "colab": {
          "base_uri": "https://localhost:8080/",
          "height": 80
        }
      },
      "execution_count": null,
      "outputs": [
        {
          "output_type": "execute_result",
          "data": {
            "text/plain": [
              "           id                                              input label  \\\n",
              "64899  108146  дети:_________________________________________...     H   \n",
              "\n",
              "       text_len  tok_len  \n",
              "64899       106      106  "
            ],
            "text/html": [
              "\n",
              "  <div id=\"df-a4565f1a-02d8-4a63-9d0d-a43d8e7d60d4\">\n",
              "    <div class=\"colab-df-container\">\n",
              "      <div>\n",
              "<style scoped>\n",
              "    .dataframe tbody tr th:only-of-type {\n",
              "        vertical-align: middle;\n",
              "    }\n",
              "\n",
              "    .dataframe tbody tr th {\n",
              "        vertical-align: top;\n",
              "    }\n",
              "\n",
              "    .dataframe thead th {\n",
              "        text-align: right;\n",
              "    }\n",
              "</style>\n",
              "<table border=\"1\" class=\"dataframe\">\n",
              "  <thead>\n",
              "    <tr style=\"text-align: right;\">\n",
              "      <th></th>\n",
              "      <th>id</th>\n",
              "      <th>input</th>\n",
              "      <th>label</th>\n",
              "      <th>text_len</th>\n",
              "      <th>tok_len</th>\n",
              "    </tr>\n",
              "  </thead>\n",
              "  <tbody>\n",
              "    <tr>\n",
              "      <th>64899</th>\n",
              "      <td>108146</td>\n",
              "      <td>дети:_________________________________________...</td>\n",
              "      <td>H</td>\n",
              "      <td>106</td>\n",
              "      <td>106</td>\n",
              "    </tr>\n",
              "  </tbody>\n",
              "</table>\n",
              "</div>\n",
              "      <button class=\"colab-df-convert\" onclick=\"convertToInteractive('df-a4565f1a-02d8-4a63-9d0d-a43d8e7d60d4')\"\n",
              "              title=\"Convert this dataframe to an interactive table.\"\n",
              "              style=\"display:none;\">\n",
              "        \n",
              "  <svg xmlns=\"http://www.w3.org/2000/svg\" height=\"24px\"viewBox=\"0 0 24 24\"\n",
              "       width=\"24px\">\n",
              "    <path d=\"M0 0h24v24H0V0z\" fill=\"none\"/>\n",
              "    <path d=\"M18.56 5.44l.94 2.06.94-2.06 2.06-.94-2.06-.94-.94-2.06-.94 2.06-2.06.94zm-11 1L8.5 8.5l.94-2.06 2.06-.94-2.06-.94L8.5 2.5l-.94 2.06-2.06.94zm10 10l.94 2.06.94-2.06 2.06-.94-2.06-.94-.94-2.06-.94 2.06-2.06.94z\"/><path d=\"M17.41 7.96l-1.37-1.37c-.4-.4-.92-.59-1.43-.59-.52 0-1.04.2-1.43.59L10.3 9.45l-7.72 7.72c-.78.78-.78 2.05 0 2.83L4 21.41c.39.39.9.59 1.41.59.51 0 1.02-.2 1.41-.59l7.78-7.78 2.81-2.81c.8-.78.8-2.07 0-2.86zM5.41 20L4 18.59l7.72-7.72 1.47 1.35L5.41 20z\"/>\n",
              "  </svg>\n",
              "      </button>\n",
              "      \n",
              "  <style>\n",
              "    .colab-df-container {\n",
              "      display:flex;\n",
              "      flex-wrap:wrap;\n",
              "      gap: 12px;\n",
              "    }\n",
              "\n",
              "    .colab-df-convert {\n",
              "      background-color: #E8F0FE;\n",
              "      border: none;\n",
              "      border-radius: 50%;\n",
              "      cursor: pointer;\n",
              "      display: none;\n",
              "      fill: #1967D2;\n",
              "      height: 32px;\n",
              "      padding: 0 0 0 0;\n",
              "      width: 32px;\n",
              "    }\n",
              "\n",
              "    .colab-df-convert:hover {\n",
              "      background-color: #E2EBFA;\n",
              "      box-shadow: 0px 1px 2px rgba(60, 64, 67, 0.3), 0px 1px 3px 1px rgba(60, 64, 67, 0.15);\n",
              "      fill: #174EA6;\n",
              "    }\n",
              "\n",
              "    [theme=dark] .colab-df-convert {\n",
              "      background-color: #3B4455;\n",
              "      fill: #D2E3FC;\n",
              "    }\n",
              "\n",
              "    [theme=dark] .colab-df-convert:hover {\n",
              "      background-color: #434B5C;\n",
              "      box-shadow: 0px 1px 3px 1px rgba(0, 0, 0, 0.15);\n",
              "      filter: drop-shadow(0px 1px 2px rgba(0, 0, 0, 0.3));\n",
              "      fill: #FFFFFF;\n",
              "    }\n",
              "  </style>\n",
              "\n",
              "      <script>\n",
              "        const buttonEl =\n",
              "          document.querySelector('#df-a4565f1a-02d8-4a63-9d0d-a43d8e7d60d4 button.colab-df-convert');\n",
              "        buttonEl.style.display =\n",
              "          google.colab.kernel.accessAllowed ? 'block' : 'none';\n",
              "\n",
              "        async function convertToInteractive(key) {\n",
              "          const element = document.querySelector('#df-a4565f1a-02d8-4a63-9d0d-a43d8e7d60d4');\n",
              "          const dataTable =\n",
              "            await google.colab.kernel.invokeFunction('convertToInteractive',\n",
              "                                                     [key], {});\n",
              "          if (!dataTable) return;\n",
              "\n",
              "          const docLinkHtml = 'Like what you see? Visit the ' +\n",
              "            '<a target=\"_blank\" href=https://colab.research.google.com/notebooks/data_table.ipynb>data table notebook</a>'\n",
              "            + ' to learn more about interactive tables.';\n",
              "          element.innerHTML = '';\n",
              "          dataTable['output_type'] = 'display_data';\n",
              "          await google.colab.output.renderOutput(dataTable, element);\n",
              "          const docLink = document.createElement('div');\n",
              "          docLink.innerHTML = docLinkHtml;\n",
              "          element.appendChild(docLink);\n",
              "        }\n",
              "      </script>\n",
              "    </div>\n",
              "  </div>\n",
              "  "
            ]
          },
          "metadata": {},
          "execution_count": 40
        }
      ]
    },
    {
      "cell_type": "code",
      "source": [
        "df_train['tok_len'].max()"
      ],
      "metadata": {
        "id": "7S-07Hoz6z-d",
        "outputId": "b2d4e69b-4a35-4bcf-ec2a-97245dd2ebc1",
        "colab": {
          "base_uri": "https://localhost:8080/"
        }
      },
      "execution_count": null,
      "outputs": [
        {
          "output_type": "execute_result",
          "data": {
            "text/plain": [
              "106"
            ]
          },
          "metadata": {},
          "execution_count": 30
        }
      ]
    },
    {
      "cell_type": "code",
      "source": [
        "df_train[df_train['label'] == 'H']['tok_len'].max()"
      ],
      "metadata": {
        "id": "RrZKeqUy7gdA",
        "outputId": "95637e50-3073-41cc-f5c8-6e788067395c",
        "colab": {
          "base_uri": "https://localhost:8080/"
        }
      },
      "execution_count": null,
      "outputs": [
        {
          "output_type": "execute_result",
          "data": {
            "text/plain": [
              "106"
            ]
          },
          "metadata": {},
          "execution_count": 31
        }
      ]
    },
    {
      "cell_type": "code",
      "source": [
        "df_train[df_train['label'] == 'H']['tok_len'].mean()"
      ],
      "metadata": {
        "id": "pUWGGEjC7giO",
        "outputId": "c196721c-272c-4e2e-e2a2-6ad80bbcc0c0",
        "colab": {
          "base_uri": "https://localhost:8080/"
        }
      },
      "execution_count": null,
      "outputs": [
        {
          "output_type": "execute_result",
          "data": {
            "text/plain": [
              "5.8106608816921055"
            ]
          },
          "metadata": {},
          "execution_count": 32
        }
      ]
    },
    {
      "cell_type": "code",
      "source": [
        "df_train[df_train['label'] == 'M']['tok_len'].max()"
      ],
      "metadata": {
        "id": "f0IAc3it7gk_",
        "outputId": "bdf396b4-5833-4f2c-8667-d0e5e1a654e0",
        "colab": {
          "base_uri": "https://localhost:8080/"
        }
      },
      "execution_count": null,
      "outputs": [
        {
          "output_type": "execute_result",
          "data": {
            "text/plain": [
              "55"
            ]
          },
          "metadata": {},
          "execution_count": 33
        }
      ]
    },
    {
      "cell_type": "code",
      "source": [
        "df_train[df_train['label'] == 'M']['tok_len'].mean()"
      ],
      "metadata": {
        "id": "FOeTLiSh7gnw",
        "outputId": "7c7d048f-718a-4574-bf3c-ffa8a85a237e",
        "colab": {
          "base_uri": "https://localhost:8080/"
        }
      },
      "execution_count": null,
      "outputs": [
        {
          "output_type": "execute_result",
          "data": {
            "text/plain": [
              "5.684523717283167"
            ]
          },
          "metadata": {},
          "execution_count": 34
        }
      ]
    },
    {
      "cell_type": "code",
      "source": [
        "plt.figure(figsize=(10, 6))\n",
        "sns.boxplot(x=\"label\", y=\"tok_len\", data=df_train)\n",
        "plt.ylim((0, 107))\n",
        "plt.title('mean length of tokens by label')\n",
        "plt.ylabel('mean length of tokens')\n",
        "plt.xlabel('label');"
      ],
      "metadata": {
        "id": "8j6CaCzc7gqa",
        "outputId": "6625129e-3309-4675-f9da-814780e985ec",
        "colab": {
          "base_uri": "https://localhost:8080/",
          "height": 415
        }
      },
      "execution_count": null,
      "outputs": [
        {
          "output_type": "display_data",
          "data": {
            "text/plain": [
              "<Figure size 720x432 with 1 Axes>"
            ],
            "image/png": "[encoded data removed]"
          },
          "metadata": {}
        }
      ]
    },
    {
      "cell_type": "code",
      "source": [
        "plt.figure(figsize=(10, 6))\n",
        "sns.boxplot(x=\"label\", y=\"tok_len\", data=df_train)\n",
        "plt.ylim((0, 10))\n",
        "plt.title('mean length of tokens by label')\n",
        "plt.ylabel('mean length of tokens')\n",
        "plt.xlabel('label');"
      ],
      "metadata": {
        "id": "K5qXgGMy60A8",
        "outputId": "81ce1838-c5e0-47c3-a681-83269ad025b3",
        "colab": {
          "base_uri": "https://localhost:8080/",
          "height": 415
        }
      },
      "execution_count": null,
      "outputs": [
        {
          "output_type": "display_data",
          "data": {
            "text/plain": [
              "<Figure size 720x432 with 1 Axes>"
            ],
            "image/png": "[encoded data removed]"
          },
          "metadata": {}
        }
      ]
    },
    {
      "cell_type": "code",
      "source": [
        "import nltk\n",
        "nltk.download(\"stopwords\")"
      ],
      "metadata": {
        "id": "WrW8fG8IFqJy",
        "outputId": "4e0e6434-3ebb-4fa4-efd0-70d95409ce44",
        "colab": {
          "base_uri": "https://localhost:8080/"
        }
      },
      "execution_count": null,
      "outputs": [
        {
          "output_type": "stream",
          "name": "stdout",
          "text": [
            "[nltk_data] Downloading package stopwords to /root/nltk_data...\n",
            "[nltk_data]   Unzipping corpora/stopwords.zip.\n"
          ]
        },
        {
          "output_type": "execute_result",
          "data": {
            "text/plain": [
              "True"
            ]
          },
          "metadata": {},
          "execution_count": 77
        }
      ]
    },
    {
      "cell_type": "code",
      "source": [
        "from nltk.corpus import stopwords\n",
        "\n",
        "stop_words = set(stopwords.words('russian'))\n",
        "def num_stops(text):\n",
        "  ans = 0\n",
        "  for token in text.split():\n",
        "    if token in stop_words:\n",
        "      ans += 1\n",
        "  return ans"
      ],
      "metadata": {
        "id": "iGBjIOR_Eylt"
      },
      "execution_count": null,
      "outputs": []
    },
    {
      "cell_type": "code",
      "source": [
        "df_train['num_stops'] = df_train['input'].apply(lambda x: num_stops(x))\n",
        "print(df_train[df_train['label'] =='H']['num_stops'].mean())\n",
        "print(df_train[df_train['label'] =='M']['num_stops'].mean())"
      ],
      "metadata": {
        "id": "2jwuMWxgFHHr",
        "outputId": "974180da-9789-4f72-ca36-31a7521d56a9",
        "colab": {
          "base_uri": "https://localhost:8080/"
        }
      },
      "execution_count": null,
      "outputs": [
        {
          "output_type": "stream",
          "name": "stdout",
          "text": [
            "6.349500271170682\n",
            "6.645317754257643\n"
          ]
        }
      ]
    },
    {
      "cell_type": "code",
      "source": [
        "plt.figure(figsize=(10, 6))\n",
        "sns.boxplot(x=\"label\", y=\"num_stops\", data=df_train)\n",
        "plt.ylim((0, 10))\n",
        "plt.title('N of stopwords by label')\n",
        "plt.ylabel('N of stopwords')\n",
        "plt.xlabel('label');"
      ],
      "metadata": {
        "id": "nBA5cTeEFWUC",
        "outputId": "bf50ad3a-b83c-406b-ce5c-09f05f2332da",
        "colab": {
          "base_uri": "https://localhost:8080/",
          "height": 415
        }
      },
      "execution_count": null,
      "outputs": [
        {
          "output_type": "display_data",
          "data": {
            "text/plain": [
              "<Figure size 720x432 with 1 Axes>"
            ],
            "image/png": "[encoded data removed]"
          },
          "metadata": {}
        }
      ]
    },
    {
      "cell_type": "code",
      "source": [
        "def num_unique(text):\n",
        "  return len(set(text.split()))"
      ],
      "metadata": {
        "id": "BJvygU4uFZZ-"
      },
      "execution_count": null,
      "outputs": []
    },
    {
      "cell_type": "code",
      "source": [
        "df_train['num_unique'] = df_train['input'].apply(lambda x: num_unique(x))\n",
        "print(df_train[df_train['label'] =='H']['num_unique'].mean())\n",
        "print(df_train[df_train['label'] =='M']['num_unique'].mean())"
      ],
      "metadata": {
        "id": "BTgCs7oUFZcm",
        "outputId": "6e9caa92-491c-4580-9d24-5676c2cfbd07",
        "colab": {
          "base_uri": "https://localhost:8080/"
        }
      },
      "execution_count": null,
      "outputs": [
        {
          "output_type": "stream",
          "name": "stdout",
          "text": [
            "25.89436739753622\n",
            "31.32514605383459\n"
          ]
        }
      ]
    },
    {
      "cell_type": "code",
      "source": [
        "plt.figure(figsize=(10, 6))\n",
        "sns.boxplot(x=\"label\", y=\"num_unique\", data=df_train)\n",
        "plt.ylim((0, 40))\n",
        "plt.title('N of unique words by label')\n",
        "plt.ylabel('N of unique words')\n",
        "plt.xlabel('label');"
      ],
      "metadata": {
        "id": "dI5uEpaAFZfM",
        "outputId": "765ac9d9-0162-473d-cd2e-51f223a724a2",
        "colab": {
          "base_uri": "https://localhost:8080/",
          "height": 415
        }
      },
      "execution_count": null,
      "outputs": [
        {
          "output_type": "display_data",
          "data": {
            "text/plain": [
              "<Figure size 720x432 with 1 Axes>"
            ],
            "image/png": "[encoded data removed]"
          },
          "metadata": {}
        }
      ]
    },
    {
      "cell_type": "code",
      "source": [
        "from sklearn.model_selection import train_test_split"
      ],
      "metadata": {
        "id": "vIkdSaMYBy_-"
      },
      "execution_count": null,
      "outputs": []
    },
    {
      "cell_type": "code",
      "source": [
        "new_df_train, _ = train_test_split(df_train, test_size=0.4, random_state=10, shuffle=True, stratify=df_train['label'])\n",
        "new_df_train['label'].value_counts()"
      ],
      "metadata": {
        "colab": {
          "base_uri": "https://localhost:8080/"
        },
        "id": "2zn6MXapB0Ti",
        "outputId": "72d75665-ce4a-4eef-92ef-f87e515840f5"
      },
      "execution_count": null,
      "outputs": [
        {
          "output_type": "execute_result",
          "data": {
            "text/plain": [
              "1    38721\n",
              "0    38718\n",
              "Name: label, dtype: int64"
            ]
          },
          "metadata": {},
          "execution_count": 9
        }
      ]
    },
    {
      "cell_type": "code",
      "source": [
        "new_df_val, _ = train_test_split(df_val, test_size=0.4, random_state=10, shuffle=True, stratify=df_val['label'])\n",
        "new_df_val['label'].value_counts()"
      ],
      "metadata": {
        "colab": {
          "base_uri": "https://localhost:8080/"
        },
        "id": "rKcbHU1FB3hA",
        "outputId": "68e26159-a544-481d-daf6-a0174282b3cc"
      },
      "execution_count": null,
      "outputs": [
        {
          "output_type": "execute_result",
          "data": {
            "text/plain": [
              "1    6453\n",
              "0    6453\n",
              "Name: label, dtype: int64"
            ]
          },
          "metadata": {},
          "execution_count": 10
        }
      ]
    },
    {
      "cell_type": "code",
      "source": [
        ""
      ],
      "metadata": {
        "id": "6b5qzfduRpjh"
      },
      "execution_count": null,
      "outputs": []
    }
  ]
}